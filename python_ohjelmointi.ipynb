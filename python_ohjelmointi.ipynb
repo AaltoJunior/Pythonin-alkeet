{
  "cells": [
    {
      "cell_type": "markdown",
      "metadata": {
        "id": "3_KQjiny-F-g"
      },
      "source": [
        "# Ohjelmoinnin alkeet pythonilla\n"
      ]
    },
    {
      "cell_type": "markdown",
      "metadata": {
        "id": "oq_BK21iGYOj"
      },
      "source": [
        "Hei! Tervetuloa opettelemaan Python-ohjelmointia.\n",
        "Tässä materiaalissa on kolme osiota, joissa opetellaan Python-ohjelmoinnin perusteita. Kaikissa osioissa on teoriaa, jonka joukossa on koodiesimerkkejä ja tehtäviä, joissa pääset kokeilemaan ihan omien ohjelmien tekemistä."
      ]
    },
    {
      "cell_type": "markdown",
      "metadata": {
        "id": "V9-TLbr3JdLW"
      },
      "source": [
        "### Mitä on ohjelmoiti?\n",
        "\n",
        "Ohjelmointi on toimintaohjeiden antamista tietokoneille jollain kirjoitetulla ohjelmointikielellä. Näitä kieliä on monia. Tässä materiaalissa tutustutaan yhteen ohjelmointikieleen, Pythoniin. Python on alankomaalaisen Guido van Rossumin vuonna 1990 kehittämä kieli. Python on laajasti käytössä oleva ohjelmointikieli, ja vuonna 2019 se nousi maailman toiseksi eniten käytetyksi ohjelmointikieleksi. Pythonia pidetään hyvänä ohjelmointikielenä aloittelijalle sen yksinkertaisen syntaksin takia. \n",
        "\n",
        "Alla on esimerkki ohjelmakoodista, jolla voi laskea tuotteen hinnan alennuksen jälkeen. Koodia ei kuitenkaan tarvitse vielä ymmärtää. Kokeile ajaa koodi koodilaatikon vasemmassa yläkulmassa olevasa play-napista. Kun ajat koodin tietokone lukee koodia vasemmalta oikealle ja ylhäältä alas. Niinkuin sinäkin luet kirjaa! Tietokone ei kuitenkaan lue rivejä jotka alkavat risuaita-merkillä(#). Nämä ovat kommentteja, jotka on tarkoitettu ihmisen luettavaksi. Kommentteja on kuitenkin hyvä käyttää tarpeeksi. Näin muut tietävät, mitä koodisi tekee.\n"
      ]
    },
    {
      "cell_type": "code",
      "execution_count": null,
      "metadata": {
        "id": "XW7krBcDT_x2",
        "vscode": {
          "languageId": "python"
        }
      },
      "outputs": [],
      "source": [
        "#Tämä ohjelma tallentaa muuttujiin tuotteen nimen, hinnan ja alennusprosentin, laskee näiden avulla \n",
        "#uuden hinnan, ja tulostaa tuotteen nimen ja uuden hinnan.\n",
        "\n",
        "#Tallennetaa ensin tuotteen nimi, hinta ja alennusprosentti muuttujiin.\n",
        "tuotteen_nimi = \"Mansikkajäätelö\"\n",
        "alkuperainen_hinta = 2\n",
        "alennusprosentti = 30\n",
        "\n",
        "#Lasketaan uusi hinta\n",
        "uusi_hinta = alkuperainen_hinta-(alkuperainen_hinta*alennusprosentti/100)\n",
        "\n",
        "#Tulostetaan tuotteen nimi ja uusi hinta\n",
        "print(\"Tuote:\", tuotteen_nimi, \"Uusi hinta:\", uusi_hinta, \"euroa\")"
      ]
    },
    {
      "cell_type": "markdown",
      "metadata": {
        "id": "5EvHpyuN4yrD"
      },
      "source": [
        "## 1. Muuttujat, tulostaminen ja käyttäjän syötteen lukeminen"
      ]
    },
    {
      "cell_type": "markdown",
      "metadata": {
        "id": "vfZmOU0CH6-B"
      },
      "source": [
        "### Tulostaminen\n",
        "\n",
        "Tulostaminen on hyödyllinen ja tärkeä ominaisuus ohjelmoinnissa. Tulostamisen avulla ohjelmasta saa tietoja näkyviin käyttäjälle, siksi siitä on hyvä aloittaa ohjelmoinnin harjoittelu.  \n",
        "\n",
        "Pythonissa tulostus tapahtuu print-funktion avulla. Print-funktioon kirjoitetaan sulkujen sisään teksti, jonka ohjelma tulostaa käyttäjälle näkyviin.\n",
        "\n",
        "Alla on esimerkki print-funktion käytöstä. Aja alla oleva koodi ja kokeile muuttaa funktion sisällä olevaa  tekstiä!"
      ]
    },
    {
      "cell_type": "code",
      "execution_count": null,
      "metadata": {
        "id": "XpW6n-gCbtcA",
        "vscode": {
          "languageId": "python"
        }
      },
      "outputs": [],
      "source": [
        "#Tulostetaan teksti \"Hei! Tänään on kaunis päivä\"\n",
        "print(\"Hei! Tänään on kaunis päivä\")"
      ]
    },
    {
      "cell_type": "markdown",
      "metadata": {
        "id": "U8hQDcqwMFnb"
      },
      "source": [
        "### Tehtävä 1.1\n",
        "\n",
        "Aloitamme omien ohjelmien tekemisen hyvin klassisesta ensimmäisestä koodaustehtävästä. Myös yliopistossa ensimmäinen ohjelmointikurssi alkaa tällä tehtävällä. Tehtävänä on tehdä ohjelma, joka tulostaa tekstin \"Hello World!\"."
      ]
    },
    {
      "cell_type": "code",
      "execution_count": null,
      "metadata": {
        "id": "pJKAbFVoMLw_",
        "vscode": {
          "languageId": "python"
        }
      },
      "outputs": [],
      "source": [
        "#Tulostetaan \"Hello World!\" print-funktion avulla.\n",
        "\n"
      ]
    },
    {
      "cell_type": "markdown",
      "metadata": {
        "id": "xBKfLayodqz_"
      },
      "source": [
        "### Muuttujat\n",
        "\n",
        "Muuttujiin voidaan sijoittaa arvoja. Muuttuja luodaan yhtäsuuruusmerkin(**=**) avulla. Yhtäsuuruusmerkin vasemmalla puolella on muuttujan nimi ja oikealla puolella annetaan muuttujalle jokin arvo. Tällöin, kun muuttujan nimi kirjoitetaan koodiin, se on sama asia kun siihen kirjoitettaisiin muuttujalle annettu arvo.\n",
        "\n",
        "Muuttujien nimeämisessä on hyvä olla tarkkana. Muuttujat kannattaa nimetä kuvailevasti, jotta koodi on selkeää. Nimet eivät saa alkaa numeroilla, niissä ei käytetä ääkkösiä(ä, ö, å), eikä niissä saa olla välilyötejä. Ainut sallittu erikoismerkki on alaviiva(_). Muuttujien nimissä on myös merkitystä käytetäänkö isoja vai pieniä kirjaimia. Muuttujat nimi ja Nimi ovat eri muuttujia.\n",
        "\n",
        "Tutustumme kolmeen Pythonin muuttujatyyppiin:\n",
        "\n",
        "\n",
        "\n",
        "> Kokonaisluvut **int**\n",
        "\n",
        "\n",
        "> Desimaaliluvut **float**\n",
        "\n",
        "\n",
        "> Merkkijonot **str**\n",
        "\n",
        "\n",
        "\n",
        "\n",
        "Aja alla oleva koodi. Kokeile saada se tervehtimään sinua! Sinun ei tarvitse muuttaa Print- funktiota.\n",
        "\n"
      ]
    },
    {
      "cell_type": "code",
      "execution_count": null,
      "metadata": {
        "id": "3cWKaQ7FgsCO",
        "vscode": {
          "languageId": "python"
        }
      },
      "outputs": [],
      "source": [
        "#Sijoitetaan merkkijono \"Anna\" muuttujaan nimi ja luku 15 muuttujaan ika\n",
        "nimi = \"Anna\"\n",
        "ika = 15\n",
        "\n",
        "#Tulostetaan esittely\n",
        "print(\"Hei! Nimeni on\", nimi, \"ja olen\", ika, \"vuotta vanha.\")"
      ]
    },
    {
      "cell_type": "markdown",
      "metadata": {
        "id": "TM2UDNkypvU9"
      },
      "source": [
        "### Matemaattiset operaattorit\n",
        "Tarvitsemme laskemiseen matemaattisia operaattoreita. Monet näistä ovat tuttuja matematikan tunneilta!\n",
        "> Yhteenlasku **+**\n",
        "\n",
        "\n",
        "> Vähennyslasku **-**\n",
        "\n",
        "\n",
        "> Kertolasku *\n",
        "\n",
        "\n",
        "> Jakolasku **/**\n",
        "\n",
        "\n",
        "> Potenssi **\n",
        "\n",
        "\n",
        "> Jakojäännös **%**\n",
        "\n",
        "\n",
        "> Alaspäin pyöristävä jakolasku **//**\n",
        "\n",
        "Aja alla oleva koodi. Kokeile muuttaa lukuja! Saatko oikeat vastaukset?"
      ]
    },
    {
      "cell_type": "code",
      "execution_count": null,
      "metadata": {
        "id": "Ml7udHZnuJf9",
        "vscode": {
          "languageId": "python"
        }
      },
      "outputs": [],
      "source": [
        "#Määritetään muuttujat luku1 ja luku2\n",
        "luku1 = 4\n",
        "luku2 = 2\n",
        "\n",
        "#Määritetään lisää muuttujia kahden ensimmäisen avulla\n",
        "summa = luku1 + luku2\n",
        "erotus = luku1 - luku2\n",
        "tulo = luku1 * luku2\n",
        "osamaara = luku1 / luku2\n",
        "\n",
        "#Tulostetaan muuttujien arvot\n",
        "print(\"Summa:\", summa, \"Erotus:\", erotus, \"Tulo:\", tulo, \"Osamäärä:\", osamaara)"
      ]
    },
    {
      "cell_type": "markdown",
      "metadata": {
        "id": "HJeLnqgZNECA"
      },
      "source": [
        "### Tehtävä 1.2\n",
        "\n",
        "Tee ohjelma, jossa määritellään ensin kolme eri kokonaislukumuuttujaa, ja sitten tulostetaan näiden muuttujien summa."
      ]
    },
    {
      "cell_type": "code",
      "execution_count": null,
      "metadata": {
        "id": "SPZsZw_YNU6d",
        "vscode": {
          "languageId": "python"
        }
      },
      "outputs": [],
      "source": [
        "#Määritellään kolme kokonaislukumuuttujaa\n",
        "\n",
        "\n",
        "\n",
        "#Tulostetaan näiden lukujen summa"
      ]
    },
    {
      "cell_type": "markdown",
      "metadata": {
        "id": "6NeJ41tew34C"
      },
      "source": [
        "### Käyttäjän syötteen lukeminen\n",
        "\n",
        "Sen lisäksi, että voimme näyttää käyttäjälle tietoa koodista, voimme myös pyytää käyttäjää antamaan tietoa. Tämä tapahtuu Pythonissa **input**-funktiolla. Input-funktioon kirjoitetaan sulkujen sisään, mitä tietoa käyttäjältä halutaan pyytää. Input-funktiosta saatu tulos asetetaan johonkin muuttujaan, ja näin sitä voidaan käyttää ohjelmassa.\n"
      ]
    },
    {
      "cell_type": "code",
      "execution_count": null,
      "metadata": {
        "id": "FYb9TqfCzR-o",
        "vscode": {
          "languageId": "python"
        }
      },
      "outputs": [],
      "source": [
        "#Kysytään käyttäjän nimeä ja tallennetaan se muuttujaan nimi\n",
        "nimi = input(\"Mikä sinun nimesi on?\")\n",
        "\n",
        "#Tervehditään käyttäjää\n",
        "print(\"Hei\", nimi)"
      ]
    },
    {
      "cell_type": "markdown",
      "metadata": {
        "id": "puQ5FG7hzoHe"
      },
      "source": [
        "Input funktiolla saatu arvo on aina merkkijono. Emme voi kuitenkaan laskea mitään merkkijonoilla. Jos haluamme että arvo onkin esimerkiksi kokonaisluku(**int**) täytyy se kertoa ohjelmalle **int**-funktion avulla. \n",
        "\n",
        "Alla on esimerkki **int**-funktion käytöstä. Kokeile ajaa koodi!"
      ]
    },
    {
      "cell_type": "code",
      "execution_count": null,
      "metadata": {
        "id": "Rujq3rRmNaU1",
        "vscode": {
          "languageId": "python"
        }
      },
      "outputs": [],
      "source": [
        "#Kysytään käyttäjän ikää\n",
        "ika = int(input(\"Minkä ikäinen olet?\"))\n",
        " \n",
        "#Lasketaan käyttäjän ikä 10 vuoden kuluttua\n",
        "ika2 = ika + 10\n",
        " \n",
        "#Tulostetaan muuttujien arvo\n",
        "print(\"Ikäsi nyt:\", ika, \"Kymmenen vuoden päästä olet:\", ika2)"
      ]
    },
    {
      "cell_type": "markdown",
      "metadata": {
        "id": "ArwdulvV3lYr"
      },
      "source": [
        "### Tehtävä 1.3\n",
        "\n",
        "Tee ohjelma, joka kysyy käyttäjän lempieläintä ja tulostaa sen. Käytä apunasi input- ja print-funktioita."
      ]
    },
    {
      "cell_type": "code",
      "execution_count": null,
      "metadata": {
        "id": "WD52aUWn4Hbq",
        "vscode": {
          "languageId": "python"
        }
      },
      "outputs": [],
      "source": [
        "#Kysytään aluksi käyttäjältä tämän lempieläintä input-funktiolla, ja asetetaan se muuttujaan lempielain\n",
        "\n",
        "lempielain = ...\n",
        "\n",
        "#Tulostaa käyttäjän lempieläimen print-funktion ja äsken määritellyn muuttujan avulla"
      ]
    },
    {
      "cell_type": "markdown",
      "metadata": {
        "id": "M_KobpDQ6RFj"
      },
      "source": [
        "### Tehtävä 1.4\n",
        "Tee ohjelma, joka kysyy käyttäjältä neljä muuttujaa, laskee  näiden lukujen keskiarvon ja tulostaa sen. "
      ]
    },
    {
      "cell_type": "code",
      "execution_count": null,
      "metadata": {
        "id": "c_vfkI876Z2l",
        "vscode": {
          "languageId": "python"
        }
      },
      "outputs": [],
      "source": [
        "#Kysytään ensin käyttäjältä neljä kokonaislukua ja tallenntaan ne muuttujiin\n",
        "\n",
        "#Lasketaan lukujen keskiarvo ja tulostetaan se. "
      ]
    },
    {
      "cell_type": "markdown",
      "metadata": {
        "id": "K1u215G14tb3"
      },
      "source": [
        "## 2. Vertailuoperaattorit ja ehtolauseet"
      ]
    },
    {
      "cell_type": "markdown",
      "metadata": {
        "id": "Oskd18uB477J"
      },
      "source": [
        "### Vertailuoperaattorit\n",
        "\n",
        "Ohjelmoinnissa voidaan käyttää matematiikan tunneilta tuttuja vertailuoperaattoreita:\n",
        "\n",
        "== yhtä suuri kuin\n",
        "\n",
        "!= erisuuri kuin\n",
        "\n",
        "< pienempi kuin\n",
        "\n",
        "\\> suurempi kuin\n",
        "\n",
        "<= pienempi tai yhtä suuri kuin\n",
        "\n",
        "\\>= suurempi tai yhtä suuri kuin\n",
        "\n",
        "**Huom!** yksi yhtäsuuruusmerkki (=) on sijoitusoperaattori, kaksi yhtäsuuruusmerkkiä (==) on vertailuoperaattori. \n",
        "\n"
      ]
    },
    {
      "cell_type": "markdown",
      "metadata": {
        "id": "tGCvgFnV6Gdi"
      },
      "source": [
        "### Ehtolauseet\n",
        "\n",
        "Ehtolause tarkoittaa sitä, että, jos jokin ehto täyttyy, tehdään/tapahtuu jokin tietty asia. \n",
        "\n",
        "Esimerkiksi \"Jos minulla on nälkä, syön.\" on ehtolause. \n",
        "\n",
        "Ohjelmoidessa ehtolauseita voidaan toteuttaa vertailuoperaattoreiden avulla. Kokeile ajaa alla olevaa esimerkkiä antamalla ohjelmalle erilaisia syötteitä.\n"
      ]
    },
    {
      "cell_type": "code",
      "execution_count": null,
      "metadata": {
        "id": "Mqh4Vff1_cjX",
        "vscode": {
          "languageId": "python"
        }
      },
      "outputs": [],
      "source": [
        "#kysytään käyttäjältä kahden henkilön iät ja tallennetaan se muuttujiin ika_1 ja ika_2:\n",
        "ika_1=int(input(\"Mikä on ensimmäisen henkilön ikä?\"))\n",
        "ika_2=int(input(\"Mikä on toisen henkilön ikä?\"))\n",
        "\n",
        "#Ehtolauseen avulla selvitetään, onko henkilö yksi vanhempi kuin henkilö kaksi. \n",
        "if ika_1>ika_2:\n",
        "    #Mikäli ehto täyttyy, tulostetaan \"Henkilö yksi on vanhempi kuin henkilö \n",
        "    #kaksi\"\n",
        "    print(\"Henkilö yksi on vanhempi kuin henkilö kaksi\")"
      ]
    },
    {
      "cell_type": "markdown",
      "metadata": {
        "id": "fHVb-qwn_kDE"
      },
      "source": [
        "Python-ohjelmointikielessä ehtolause toteutetaan if-komennon avulla. Huomaa seuraavan rivin sisennys. Sisennys kertoo tietokoneelle, mitkä rivit suoritetaan ehdon täyttyessä, kaikki heti if-lauseen jälkeen sisennetyt rivit suoritetaan.\n",
        "\n",
        "If-komennon lisäksi voidaan käyttää elif- ja else-komentoja. Elif on lyhenne sanoista else if (muuten jos). \n",
        "\n",
        "Esimerkiksi: \"Jos minulla on nälkä, syön. Muuten jos minulla on jano, juon. Muuten katson televisiota\" \n",
        "\n",
        "Kokeile ajaa alla olevaa esimerkkiä antamalla ohjelmalle eri syötteitä.\n",
        "\n"
      ]
    },
    {
      "cell_type": "code",
      "execution_count": null,
      "metadata": {
        "id": "R9i-Bi4X_mV5",
        "vscode": {
          "languageId": "python"
        }
      },
      "outputs": [],
      "source": [
        "#kysytään käyttäjältä ikä ja tallennetaan se muuttujaan ika:\n",
        "ika=int(input(\"Kuinka vanha olet?\"))\n",
        " \n",
        "#Ehtolauseen avulla selvitetään, onko käyttäjä alle 16-vuotias:\n",
        "if ika<16:\n",
        "    #Mikäli ehto täyttyy, tulostetaan \"Olet alle 16-vuotias\"\n",
        "    print(\"Olet alle 16-vuotias\")\n",
        "#Mikäli käyttäjä oli yli 16-vuotias, selvitetään onko hän silti alaikäinen:\n",
        "elif ika<18:\n",
        "    print(\"Olet jo yli 16 mutta alaikäinen\")\n",
        "#Jos käyttäjä ei ollut alaikäinen siirrytään else lauseeseen:\n",
        "else:\n",
        "    print(\"Olet täysi-ikäinen!\")"
      ]
    },
    {
      "cell_type": "markdown",
      "metadata": {
        "id": "k2TRReXDAgQx"
      },
      "source": [
        "#### Tehtävä 2.1\n",
        "\n",
        "Tee ohjelma, joka kysyy käyttäjän iän ja tulostaa museon pääsylipun hinnan. Museolipun hinta määräytyy seuraavasti:\n",
        "\n",
        "-alle 5-vuotiaat pääsevät ilmaiseksi\n",
        "\n",
        "-5-15 -vuotiaat maksavat 7 euroa\n",
        "\n",
        "-Yli 15-vuotiaat maksavat 15 euroa\n",
        "\n",
        "\n",
        "Katso tarvittaessa mallia aiemmista esimerkeistä. Kun luulet olevasi valmis, kokeile ohjelmaa eri ikäisillä, ja tarkista, että se toimii odotetulla tavalla.\n"
      ]
    },
    {
      "cell_type": "code",
      "execution_count": null,
      "metadata": {
        "id": "G5xIc8HtAfHb",
        "vscode": {
          "languageId": "python"
        }
      },
      "outputs": [],
      "source": [
        "#1. Kysy ensin käyttäjän ikää input-komennolla ja tallenna muuttujaan. \n",
        "#Muista käyttäjän syöte kokonaisluvuksi int()-funktiolla\n",
        " \n",
        "ika=\n",
        " \n",
        " \n",
        "#2. Selvitä ehtolauseiden avulla, mihin hintaluokkaan käyttäjä kuuluu ja tulosta oikea hinta:\n",
        " \n",
        "#Jos käyttäjä on alle 5-vuotias\n",
        "if\n",
        " \n",
        "#Muuten jos käyttäjä on alle 15-vuotias\n",
        "elif\n",
        " \n",
        "#Muuten\n",
        "else:"
      ]
    },
    {
      "cell_type": "markdown",
      "metadata": {
        "id": "9O2yro3iDw9p"
      },
      "source": [
        "#### Tehtava 2.2\n",
        "Seuraavassa tehtävässä yhdistetään kaikkea tähän asti opittua.\n",
        "\n",
        "Tehtävänäsi on ohjelmoida yksinkertainen kassakone. Ohjelma kysyy käyttäjältä minkä tuotteen hän haluaa kahdesta eri vaihtoehdosta. Tämän jälkeen käyttäjältä kysytään kuinka monta kappaletta hän haluaa kyseistä tuotetta. Ohjelma tulostaa oikean hinnan.\n",
        "\n",
        "Hyödynnä tehtävässä käyttäjän syötteen kysymistä ja tallentamista muuttujaan, matemaattisia operaattoreita, ehtolauseita ja tulostamista.\n",
        "\n",
        "Kaupan hinnasto:\n",
        "\n",
        "-Tuote 1: korvapuusti 3€\n",
        "\n",
        "-Tuote 2: vesipullo 2€\n"
      ]
    },
    {
      "cell_type": "code",
      "execution_count": null,
      "metadata": {
        "id": "QALgKAgJB11x",
        "vscode": {
          "languageId": "python"
        }
      },
      "outputs": [],
      "source": [
        "#1. Kysy ensin käyttäjältä minkä tuotteen hän haluaa, ja tallenna tämä muuttujaan\n",
        "#Esimerkiksi lauseella \"Kirjoita haluamasi tuotteen numero. Tuote 1 on korvapuusti ja tuote 2 on vesipullo\"\n",
        "\n",
        "\n",
        "#2. Kysy seuraavaksi kuinka monta kappaletta käyttäjä haluaa ostaa, ja tallenna tämä muuttujaan\n",
        "\n",
        "\n",
        "#3. Käytä ehtolauseita selvittääksesi, mitä tuotetta käyttäjä tilasi.\n",
        "#Laske ostosten kokonaishinta kertolaskun avulla ja tulosta se.\n",
        "\n",
        "#3.1 jos tuote on 1 \n",
        "if\n",
        "\n",
        "#3.2 jos tuote on 2\n",
        "if \n",
        "\n",
        "\n",
        "#Tulosta hinta\n",
        "\n",
        "\n"
      ]
    },
    {
      "cell_type": "markdown",
      "metadata": {
        "id": "jZiZtfO742Wq"
      },
      "source": [
        "## 3. Silmukat\n",
        "\n",
        "Silmukat ovat niin sanottuja toistorakenteita. Niiden avulla voidaan toistaa samaa ohjelmakoodia moneen kertaan ilman, että koodia täytyy kirjoittaa moneen kertaan. Koodi, jota halutaan toistaa, sisennetään kuten ehtolauseissa.\n",
        "\n",
        "### 3.1 for-silmukka\n",
        "\n",
        "for-silmukkaa kannattaa käyttää silloin, kun tiedetään kuinka monta kertaa toistettava ohjelma halutaan toistaa. For-silmukkaa käytetään yleisesti myös erilaisten listojen läpikäyntiin.\n",
        "\n",
        "For-silmukan kanssa on usein hyödyllistä käyttää range()-funktiota, joka tekee sarjan numeroita. Esimerkiksi range(5) tekee sarjan numeroita nollasta neljään(5-1=4). \n",
        "\n",
        "Aja alla olevat esimerkit ja kokeile muuttaa lukua range-funktion sisällä. Mitä tapahtuu?"
      ]
    },
    {
      "cell_type": "code",
      "execution_count": null,
      "metadata": {
        "id": "iteArFk-FVa8",
        "vscode": {
          "languageId": "python"
        }
      },
      "outputs": [],
      "source": [
        "#Mikäli halutaan, että ohjelma tervehtii käyttäjää monta kertaa, voidaan käyttää \n",
        "#for-silmukkaa ja range()-funktiota:\n",
        "\n",
        "for i in range(3):\n",
        "  print(\"Moi!\")"
      ]
    },
    {
      "cell_type": "code",
      "execution_count": null,
      "metadata": {
        "id": "NOmy1gWcGgTT",
        "vscode": {
          "languageId": "python"
        }
      },
      "outputs": [],
      "source": [
        "#for-silmukkaa ja range()-funktiota voidaan hyödyntää myös, jos halutaan tulostaa \n",
        "#luvut nollasta yhdeksään\n",
        "\n",
        "for i in range(10):\n",
        "  print(i)"
      ]
    },
    {
      "cell_type": "markdown",
      "metadata": {
        "id": "FdV8SYoxGzpE"
      },
      "source": [
        "Ylläolevista esimerkeistä nähtiin, että kun käytetään for-silmukkaa ja range-funktiota, for-silmukan sisällä oleva sisennetty koodi toistetaan range()-funktiolle annetun luvun mukainen määrä. Lisäksi huomattiin, että range-funktion tekemän sarjan luvut tallentuvat vuorotellen annettuun muuttujaan (esimerkeissä tämän muuttujan nimi on i). \n",
        "\n",
        "Tätä muuttujaa voidaan käyttää kuten mitä tahansa muutakin muuttujaa esimerkiksi kerto ja jakolaskuissa."
      ]
    },
    {
      "cell_type": "markdown",
      "metadata": {
        "id": "ORibpavtIFAg"
      },
      "source": [
        "### Tehtävä 3.1\n",
        "\n",
        "Toteuta ohjelma, joka laskee haluamasi luvun kertotaulun. Hyödynnä for-silmukkaa yhdessä range-funktion kanssa."
      ]
    },
    {
      "cell_type": "code",
      "execution_count": null,
      "metadata": {
        "id": "YPnNZPVzIElf",
        "vscode": {
          "languageId": "python"
        }
      },
      "outputs": [],
      "source": [
        "#1. Ensin tehdään for-silmukka hyödyntäen range-funktiota. Silmukka halutaan\n",
        "#halutaan toistaa 10 kertaa, joten range- funktiolle annetaan luvuksi 10\n",
        "\n",
        "for...\n",
        "  #2. for-silmukan sisällä lasketaan, ja tulostetaan halutun luvun kertotaulu\n",
        "  #hyödyntämällä muuttujaa, johon tallennetaan range-funktion tekemän lukusarjan lukuja"
      ]
    },
    {
      "cell_type": "markdown",
      "metadata": {
        "id": "t6M_nOVXJF7Z"
      },
      "source": [
        "### 3.2 While-silmukka\n",
        "\n",
        "While-silmukka on toistorakenne, joka toistaa haluttua ohjelmakoodia niin kauan, kunnes jokin ehto täyttyy. While-silmukkaa käytetään siis yhdessä vertailuoperaattoreiden kanssa."
      ]
    },
    {
      "cell_type": "code",
      "execution_count": null,
      "metadata": {
        "id": "RrjEwOabJZbY",
        "vscode": {
          "languageId": "python"
        }
      },
      "outputs": [],
      "source": [
        "#Haluamme jälleen tervehtiä käyttäjää monta kertaa. Tällä kertaa yhteensä 5 kertaa\n",
        "#ja hyödyntäen while-silmukkaa:\n",
        "\n",
        "#luodaan ensin muuttuja, johon tallennetaan tieto siitä, kuinka monta kertaa\n",
        "#käyttäjää on tervehditty, eli kuinka monta kertaa koodi on toistettu. Aluksi\n",
        "#toistoja ei vielä ole eli muuttuja asetetaan nollaksi\n",
        "kerta=0\n",
        "\n",
        "#Halusimme tervehtiä 5 kertaa, joten silmukan toistua niin kauan kun kerta<5:\n",
        "while kerta<5:\n",
        "  #silmukan sisällä ensin tulostetaan haluttu tervehdys\n",
        "  print(\"Moi!\")\n",
        "  #nyt kerta-muuttujaan lisätään 1, sillä olemme tervehtineet käyttjää yhden kerran lisää\n",
        "  kerta = kerta+1"
      ]
    },
    {
      "cell_type": "markdown",
      "metadata": {
        "id": "CIIOrlBfKaKA"
      },
      "source": [
        "Ylläolevassa esimerkissä toistojen määrä tiedettiin valmiiksi mutta yleensä while-silmukkaa kannattaa käyttää, jos toistojen määrää ei tiedetä etukäteen. \n"
      ]
    },
    {
      "cell_type": "code",
      "execution_count": null,
      "metadata": {
        "id": "8SP8NAShKrrL",
        "vscode": {
          "languageId": "python"
        }
      },
      "outputs": [],
      "source": [
        "#Sinulla on 4€ ja haluat ostaa 30snt hintaisia tikkareita niin monta kuin pystyt.\n",
        "#Et osaa laske päässä, kuinka monta tikkaria saat, joten kirjoitat ohjelman, \n",
        "#joka laskee while-silmukan avulla kuinka monta tikkaria saat ostettua.\n",
        "\n",
        "#ensin määritellään muuttuja raha, johon tallennetaan jäljellä olevan rahan määrä\n",
        "#alussa rahaa on 4€\n",
        "raha = 4\n",
        "\n",
        "#lisäksi määritellään muuttuja tikkarit, johon tallennetaan ostettujen tikkareiden määrä\n",
        "#aluksi tikkareita on 0\n",
        "tikkarit = 0\n",
        "\n",
        "#tikkareita ostetaan lisää niin kauan, kun rahaa riittää, eli rahaa on vähintään 30 senttiä:\n",
        "while raha>=0.3:\n",
        "  #jos rahaa on tarpeeksi, ostetaan yksi tikkari lisää\n",
        "  tikkarit = tikkarit+1\n",
        "  #koska ostit tikkarin, rahoista vähennetään tikkarin hinta\n",
        "  raha = raha-0.3\n",
        "\n",
        "#lopuksi tulostetaan kuinka monta tikkaria sait ostettua:\n",
        "print(tikkarit, \"tikkaria\")\n",
        "#lisäksi tulostetaan kuinka paljon rahaa jäi jäljelle:\n",
        "print(\"sinulle jäi\", raha, \"euroa\")"
      ]
    },
    {
      "cell_type": "markdown",
      "metadata": {
        "id": "qyxYF09lL6Vb"
      },
      "source": [
        "### Tehtävä 3.2\n",
        "Laske kuinka monta peräkkäistä kokonaislukua pitää laskea yhteen, jotta summa ylittää 100.\n",
        "\n",
        "Käytä tehtävässä while-silmukkaa ja tulosta vastaus"
      ]
    },
    {
      "cell_type": "code",
      "execution_count": null,
      "metadata": {
        "id": "BkzmRvsvMU1o",
        "vscode": {
          "languageId": "python"
        }
      },
      "outputs": [],
      "source": [
        "#1. Määrittele muuttuja kokonaisluku, joka on aluksi 1 ja kasvaa jokaisella toistolla\n",
        "\n",
        "#2. Määrittele muuttuja summa, johon tallennetaan summa jokaisella toistolla. \n",
        "#summa on aluksi 0\n",
        "\n",
        "#3.Tee while-silmukka, jota toistetaan kunnes summa ylittää sadan\n",
        "while...\n",
        "  #4. silmukan sisällä lisää summa muuttujaan kokonaisluku ja kasvata kokonaislukua yhdellä\n",
        "\n",
        "#5. Kun summa on ylittänyt sadan ja silmukan toisto loppuu, tulosta kokonaisluku"
      ]
    },
    {
      "cell_type": "markdown",
      "metadata": {
        "id": "ijH___4OCMLM"
      },
      "source": [
        "## Lisätehtävä\n",
        "\n",
        "Toteuta laskin. Ohjelma kysyy käyttäjältä, minkä laskutoimituksen hän haluaa tehdä (summa/erotus/tulo/osamäärä). Sen jälkeen ohjelma kysyy mille kahdelle luvulle laskutoimitus tehdään. Lopuksi ohjelma tulostaa laskutoimituksen tuloksen. Toteutuksessa tarvitaan kaikkia työpajassa opetettuja aiheita. "
      ]
    },
    {
      "cell_type": "code",
      "execution_count": null,
      "metadata": {
        "id": "mlRE8uWKDoTB",
        "vscode": {
          "languageId": "python"
        }
      },
      "outputs": [],
      "source": [
        "#Lisätehtävä"
      ]
    },
    {
      "cell_type": "markdown",
      "metadata": {
        "id": "WMFkpTmPK3Nm"
      },
      "source": [
        "## Haastava lisätehtävä\n",
        "### Listat ja lajittelualgoritmit\n",
        "\n",
        "Lista on muuttujien säilyttämiseen käytetty tietorakenne. Voit tutustua listojen käyttöön täällä: https://www.cs.helsinki.fi/group/linkki/materiaali/peliohjelmointi/lista.html\n",
        "\n",
        "Lajittelualgoritmit ovat algoritmeja, jotka lajittelevat listan osat sovittuun järjestykseen, esimerkiksi listan sisältämät luvut numerojärjestykseen pienimmästä suurimpaan. Erilaisista lajittelualgoritmeista löydät lisätietoa täältä: https://en.wikipedia.org/wiki/Sorting_algorithm\n",
        "\n",
        "Tehtävänäsi on toteuttaa haluamasi lainen lajittelualgoritmi, joka järestää listaan tallennetut kokonaisluvut pienimmästä suurimpaan. Alla oleva koodi luo sinulle kaksi listaa, jotka sisältävät satunnaisia kokonaislukuja. Voit käyttää listoja algoritmisi testaukseen."
      ]
    },
    {
      "cell_type": "code",
      "execution_count": null,
      "metadata": {
        "colab": {
          "base_uri": "https://localhost:8080/"
        },
        "id": "UWSJTrx8p0ng",
        "outputId": "2c87d58f-4acc-41f4-b8e6-70ee68b48bc0",
        "vscode": {
          "languageId": "python"
        }
      },
      "outputs": [],
      "source": [
        "import random\n",
        "#Tämä koodi luo sinulle yhden 10 alkion mittaisen listan ja yhten 1000 alkion mittaisen listan,\n",
        "#joita voit käyttää algoritmisi testauksessa\n",
        "lyhytlista = [] \n",
        "for _ in range(10):\n",
        "    lyhytlista.append(random.randrange(0,10, step=1))\n",
        "pitkalista = []\n",
        "for _ in range(1000):\n",
        "    pitkalista.append(random.randrange(0,1000, step=1))"
      ]
    },
    {
      "cell_type": "code",
      "execution_count": null,
      "metadata": {
        "id": "wNcj8tSJN1AI",
        "vscode": {
          "languageId": "python"
        }
      },
      "outputs": [],
      "source": [
        "#Toteuta lajittelualgoritmisi tähän soluun. Voit tarkistaa toimivuuden käyttämällä\n",
        "#lyhyempää listaa ja tulostamalla valmiiksi lajitellun listan.\n",
        "#Voit luoda lisää muuttujia, kuten listoja tarvittaessa"
      ]
    }
  ],
  "metadata": {
    "colab": {
      "collapsed_sections": [
        "Oskd18uB477J",
        "ORibpavtIFAg",
        "t6M_nOVXJF7Z",
        "qyxYF09lL6Vb"
      ],
      "name": "python_ohjelmointi.ipynb",
      "provenance": []
    },
    "kernelspec": {
      "display_name": "Python 3",
      "name": "python3"
    }
  },
  "nbformat": 4,
  "nbformat_minor": 0
}

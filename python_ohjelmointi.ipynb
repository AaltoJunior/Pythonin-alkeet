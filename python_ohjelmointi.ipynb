{
  "nbformat": 4,
  "nbformat_minor": 0,
  "metadata": {
    "colab": {
      "name": "python_ohjelmointi.ipynb",
      "provenance": [],
      "collapsed_sections": [
        "Oskd18uB477J",
        "ORibpavtIFAg",
        "t6M_nOVXJF7Z",
        "qyxYF09lL6Vb"
      ]
    },
    "kernelspec": {
      "name": "python3",
      "display_name": "Python 3"
    }
  },
  "cells": [
    {
      "cell_type": "markdown",
      "metadata": {
        "id": "3_KQjiny-F-g"
      },
      "source": [
        "# Ohjelmoinnin alkeet pythonilla\n"
      ]
    },
    {
      "cell_type": "markdown",
      "metadata": {
        "id": "oq_BK21iGYOj"
      },
      "source": [
        "Hei! Tervetuloa opettelemaan Python-ohjelmointia.\n",
        "Tässä materiaalissa on kolme osiota, joissa opetellaan Python-ohjelmoinnin perusteita. Kaikissa osioissa on teoriaa, jonka joukossa on koodiesimerkkejä ja tehtäviä, joissa pääset kokeilemaan ihan omien ohjelmien tekemistä."
      ]
    },
    {
      "cell_type": "markdown",
      "metadata": {
        "id": "V9-TLbr3JdLW"
      },
      "source": [
        "###Mitä on ohjelmoiti?\n",
        "\n",
        "Ohjelmointi on toimintaohjeiden antamista tietokoneille jollain kirjoitetulla ohjelmointikielellä. Näitä kieliä on monia. Tässä materiaalissa tutustutaan yhteen ohjelmointikieleen, Pythoniin. Python on alankomaalaisen Guido van Rossumin vuonna 1990 kehittämä kieli. Python on laajasti käytössä oleva ohjelmointikieli, ja vuonna 2019 se nousi maailman toiseksi eniten käytetyksi ohjelmointikieleksi. Pythonia pidetään hyvänä ohjelmointikielenä aloittelijalle sen yksinkertaisen syntaksin takia. \n",
        "\n",
        "Alla on esimerkki ohjelmakoodista, jolla voi laskea tuotteen hinnan alennuksen jälkeen. Koodia ei kuitenkaan tarvitse vielä ymmärtää. Kokeile ajaa koodi koodilaatikon vasemmassa yläkulmassa olevasa play-napista. Kun ajat koodin tietokone lukee koodia vasemmalta oikealle ja ylhäältä alas. Niinkuin sinäkin luet kirjaa! Tietokone ei kuitenkaan lue rivejä jotka alkavat risuaita-merkillä(#). Nämä ovat kommentteja, jotka on tarkoitettu ihmisen luettavaksi. Kommentteja on kuitenkin hyvä käyttää tarpeeksi. Näin muut tietävät, mitä koodisi tekee.\n"
      ]
    },
    {
      "cell_type": "code",
      "metadata": {
        "id": "XW7krBcDT_x2"
      },
      "source": [
        "#Tämä ohjelma tallentaa muuttujiin tuotteen nimen, hinnan ja alennusprosentin, laskee näiden avulla \n",
        "#uuden hinnan, ja tulostaa tuotteen nimen ja uuden hinnan.\n",
        "\n",
        "#Tallennetaa ensin tuotteen nimi, hinta ja alennusprosentti muuttujiin.\n",
        "tuotteen_nimi = \"Mansikkajäätelö\"\n",
        "alkuperainen_hinta = 2\n",
        "alennusprosentti = 30\n",
        "\n",
        "#Lasketaan uusi hinta\n",
        "uusi_hinta = alkuperainen_hinta-(alkuperainen_hinta*alennusprosentti/100)\n",
        "\n",
        "#Tulostetaan tuotteen nimi ja uusi hinta\n",
        "print(\"Tuote:\", tuotteen_nimi, \"Uusi hinta:\", uusi_hinta, \"euroa\")"
      ],
      "execution_count": null,
      "outputs": []
    },
    {
      "cell_type": "markdown",
      "metadata": {
        "id": "5EvHpyuN4yrD"
      },
      "source": [
        "## 1. Muuttujat, tulostaminen ja käyttäjän syötteen lukeminen"
      ]
    },
    {
      "cell_type": "markdown",
      "metadata": {
        "id": "vfZmOU0CH6-B"
      },
      "source": [
        "###Tulostaminen\n",
        "\n",
        "Tulostaminen on hyödyllinen ja tärkeä ominaisuus ohjelmoinnissa. Tulostamisen avulla ohjelmasta saa tietoja näkyviin käyttäjälle, siksi siitä on hyvä aloittaa ohjelmoinnin harjoittelu.  \n",
        "\n",
        "Pythonissa tulostus tapahtuu print-funktion avulla. Print-funktioon kirjoitetaan sulkujen sisään teksti, jonka ohjelma tulostaa käyttäjälle näkyviin.\n",
        "\n",
        "Alla on esimerkki print-funktion käytöstä. Aja alla oleva koodi ja kokeile muuttaa funktion sisällä olevaa  tekstiä!"
      ]
    },
    {
      "cell_type": "code",
      "metadata": {
        "id": "XpW6n-gCbtcA"
      },
      "source": [
        "#Tulostetaan teksti \"Hei! Tänään on kaunis päivä\"\n",
        "print(\"Hei! Tänään on kaunis päivä\")"
      ],
      "execution_count": null,
      "outputs": []
    },
    {
      "cell_type": "markdown",
      "metadata": {
        "id": "U8hQDcqwMFnb"
      },
      "source": [
        "### Tehtävä 1.1\n",
        "\n",
        "Aloitamme omien ohjelmien tekemisen hyvin klassisesta ensimmäisestä koodaustehtävästä. Myös yliopistossa ensimmäinen ohjelmointikurssi alkaa tällä tehtävällä. Tehtävänä on tehdä ohjelma, joka tulostaa tekstin \"Hello World!\"."
      ]
    },
    {
      "cell_type": "code",
      "metadata": {
        "id": "pJKAbFVoMLw_"
      },
      "source": [
        "#Tulostetaan \"Hello World!\" print-funktion avulla.\n",
        "\n"
      ],
      "execution_count": null,
      "outputs": []
    },
    {
      "cell_type": "markdown",
      "metadata": {
        "id": "xBKfLayodqz_"
      },
      "source": [
        "###Muuttujat\n",
        "\n",
        "Muuttujiin voidaan sijoittaa arvoja. Muuttuja luodaan yhtäsuuruusmerkin(**=**) avulla. Yhtäsuuruusmerkin vasemmalla puolella on muuttujan nimi ja oikealla puolella annetaan muuttujalle jokin arvo. Tällöin, kun muuttujan nimi kirjoitetaan koodiin, se on sama asia kun siihen kirjoitettaisiin muuttujalle annettu arvo.\n",
        "\n",
        "Muuttujien nimeämisessä on hyvä olla tarkkana. Muuttujat kannattaa nimetä kuvailevasti, jotta koodi on selkeää. Nimet eivät saa alkaa numeroilla, niissä ei käytetä ääkkösiä(ä, ö, å), eikä niissä saa olla välilyötejä. Ainut sallittu erikoismerkki on alaviiva(_). Muuttujien nimissä on myös merkitystä käytetäänkö isoja vai pieniä kirjaimia. Muuttujat nimi ja Nimi ovat eri muuttujia.\n",
        "\n",
        "Tutustumme kolmeen Pythonin muuttujatyyppiin:\n",
        "\n",
        "\n",
        "\n",
        "> Kokonaisluvut **int**\n",
        "\n",
        "\n",
        "> Desimaaliluvut **float**\n",
        "\n",
        "\n",
        "> Merkkijonot **str**\n",
        "\n",
        "\n",
        "\n",
        "\n",
        "Aja alla oleva koodi. Kokeile saada se tervehtimään sinua! Sinun ei tarvitse muuttaa Print- funktiota.\n",
        "\n"
      ]
    },
    {
      "cell_type": "code",
      "metadata": {
        "id": "3cWKaQ7FgsCO"
      },
      "source": [
        "#Sijoitetaan merkkijono \"Anna\" muuttujaan nimi ja luku 15 muuttujaan ika\n",
        "nimi = \"Anna\"\n",
        "ika = 15\n",
        "\n",
        "#Tulostetaan esittely\n",
        "print(\"Hei! Nimeni on\", nimi, \"ja olen\", ika, \"vuotta vanha.\")"
      ],
      "execution_count": null,
      "outputs": []
    },
    {
      "cell_type": "markdown",
      "metadata": {
        "id": "TM2UDNkypvU9"
      },
      "source": [
        "###Matemaattiset operaattorit\n",
        "Tarvitsemme laskemiseen matemaattisia operaattoreita. Monet näistä ovat tuttuja matematikan tunneilta!\n",
        "> Yhteenlasku **+**\n",
        "\n",
        "\n",
        "> Vähennyslasku **-**\n",
        "\n",
        "\n",
        "> Kertolasku *\n",
        "\n",
        "\n",
        "> Jakolasku **/**\n",
        "\n",
        "\n",
        "> Potenssi **\n",
        "\n",
        "\n",
        "> Jakojäännös **%**\n",
        "\n",
        "\n",
        "> Alaspäin pyöristävä jakolasku **//**\n",
        "\n",
        "Aja alla oleva koodi. Kokeile muuttaa lukuja! Saatko oikeat vastaukset?"
      ]
    },
    {
      "cell_type": "code",
      "metadata": {
        "id": "Ml7udHZnuJf9"
      },
      "source": [
        "#Määritetään muuttujat luku1 ja luku2\n",
        "luku1 = 4\n",
        "luku2 = 2\n",
        "\n",
        "#Määritetään lisää muuttujia kahden ensimmäisen avulla\n",
        "summa = luku1 + luku2\n",
        "erotus = luku1 - luku2\n",
        "tulo = luku1 * luku2\n",
        "osamaara = luku1 / luku2\n",
        "\n",
        "#Tulostetaan muuttujien arvot\n",
        "print(\"Summa:\", summa, \"Erotus:\", erotus, \"Tulo:\", tulo, \"Osamäärä:\", osamaara)"
      ],
      "execution_count": null,
      "outputs": []
    },
    {
      "cell_type": "markdown",
      "metadata": {
        "id": "HJeLnqgZNECA"
      },
      "source": [
        "###Tehtävä 1.2\n",
        "\n",
        "Tee ohjelma, jossa määritellään ensin kolme eri kokonaislukumuuttujaa, ja sitten tulostetaan näiden muuttujien summa."
      ]
    },
    {
      "cell_type": "code",
      "metadata": {
        "id": "SPZsZw_YNU6d"
      },
      "source": [
        "#Määritellään kolme kokonaislukumuuttujaa\n",
        "\n",
        "\n",
        "\n",
        "#Tulostetaan näiden lukujen summa"
      ],
      "execution_count": null,
      "outputs": []
    },
    {
      "cell_type": "markdown",
      "metadata": {
        "id": "6NeJ41tew34C"
      },
      "source": [
        "###Käyttäjän syötteen lukeminen\n",
        "\n",
        "Sen lisäksi, että voimme näyttää käyttäjälle tietoa koodista, voimme myös pyytää käyttäjää antamaan tietoa. Tämä tapahtuu Pythonissa **input**-funktiolla. Input-funktioon kirjoitetaan sulkujen sisään, mitä tietoa käyttäjältä halutaan pyytää. Input-funktiosta saatu tulos asetetaan johonkin muuttujaan, ja näin sitä voidaan käyttää ohjelmassa.\n"
      ]
    },
    {
      "cell_type": "code",
      "metadata": {
        "id": "FYb9TqfCzR-o"
      },
      "source": [
        "#Kysytään käyttäjän nimeä ja tallennetaan se muuttujaan nimi\n",
        "nimi = input(\"Mikä sinun nimesi on?\")\n",
        "\n",
        "#Tervehditään käyttäjää\n",
        "print(\"Hei\", nimi)"
      ],
      "execution_count": null,
      "outputs": []
    },
    {
      "cell_type": "markdown",
      "metadata": {
        "id": "puQ5FG7hzoHe"
      },
      "source": [
        "Input funktiolla saatu arvo on aina merkkijono. Emme voi kuitenkaan laskea mitään merkkijonoilla. Jos haluamme että arvo onkin esimerkiksi kokonaisluku(**int**) täytyy se kertoa ohjelmalle **int**-funktion avulla. \n",
        "\n",
        "Alla on esimerkki **int**-funktion käytöstä. Kokeile ajaa koodi!"
      ]
    },
    {
      "cell_type": "code",
      "metadata": {
        "id": "Rujq3rRmNaU1"
      },
      "source": [
        "#Kysytään käyttäjän ikää\n",
        "ika = int(input(\"Minkä ikäinen olet?\"))\n",
        " \n",
        "#Lasketaan käyttäjän ikä 10 vuoden kuluttua\n",
        "ika2 = ika + 10\n",
        " \n",
        "#Tulostetaan muuttujien arvo\n",
        "print(\"Ikäsi nyt:\", ika, \"Kymmenen vuoden päästä olet:\", ika2)"
      ],
      "execution_count": null,
      "outputs": []
    },
    {
      "cell_type": "markdown",
      "metadata": {
        "id": "ArwdulvV3lYr"
      },
      "source": [
        "###Tehtävä 1.3\n",
        "\n",
        "Tee ohjelma, joka kysyy käyttäjän lempieläintä ja tulostaa sen. Käytä apunasi input- ja print-funktioita."
      ]
    },
    {
      "cell_type": "code",
      "metadata": {
        "id": "WD52aUWn4Hbq"
      },
      "source": [
        "#Kysytään aluksi käyttäjältä tämän lempieläintä input-funktiolla, ja asetetaan se muuttujaan lempielain\n",
        "\n",
        "lempielain = ...\n",
        "\n",
        "#Tulostaa käyttäjän lempieläimen print-funktion ja äsken määritellyn muuttujan avulla"
      ],
      "execution_count": null,
      "outputs": []
    },
    {
      "cell_type": "markdown",
      "metadata": {
        "id": "M_KobpDQ6RFj"
      },
      "source": [
        "###Tehtävä 1.4\n",
        "Tee ohjelma, joka kysyy käyttäjältä neljä muuttujaa, laskee  näiden lukujen keskiarvon ja tulostaa sen. "
      ]
    },
    {
      "cell_type": "code",
      "metadata": {
        "id": "c_vfkI876Z2l"
      },
      "source": [
        "#Kysytään ensin käyttäjältä neljä kokonaislukua ja tallenntaan ne muuttujiin\n",
        "\n",
        "#Lasketaan lukujen keskiarvo ja tulostetaan se. "
      ],
      "execution_count": null,
      "outputs": []
    },
    {
      "cell_type": "markdown",
      "metadata": {
        "id": "K1u215G14tb3"
      },
      "source": [
        "## 2. Vertailuoperaattorit ja ehtolauseet"
      ]
    },
    {
      "cell_type": "markdown",
      "metadata": {
        "id": "Oskd18uB477J"
      },
      "source": [
        "### Vertailuoperaattorit\n",
        "\n",
        "Ohjelmoinnissa voidaan käyttää matematiikan tunneilta tuttuja vertailuoperaattoreita:\n",
        "\n",
        "== yhtä suuri kuin\n",
        "\n",
        "!= erisuuri kuin\n",
        "\n",
        "< pienempi kuin\n",
        "\n",
        "\\> suurempi kuin\n",
        "\n",
        "<= pienempi tai yhtä suuri kuin\n",
        "\n",
        "\\>= suurempi tai yhtä suuri kuin\n",
        "\n",
        "**Huom!** yksi yhtäsuuruusmerkki (=) on sijoitusoperaattori, kaksi yhtäsuuruusmerkkiä (==) on vertailuoperaattori. \n",
        "\n"
      ]
    },
    {
      "cell_type": "markdown",
      "metadata": {
        "id": "tGCvgFnV6Gdi"
      },
      "source": [
        "### Ehtolauseet\n",
        "\n",
        "Ehtolause tarkoittaa sitä, että, jos jokin ehto täyttyy, tehdään/tapahtuu jokin tietty asia. \n",
        "\n",
        "Esimerkiksi \"Jos minulla on nälkä, syön.\" on ehtolause. \n",
        "\n",
        "Ohjelmoidessa ehtolauseita voidaan toteuttaa vertailuoperaattoreiden avulla. Kokeile ajaa alla olevaa esimerkkiä antamalla ohjelmalle erilaisia syötteitä.\n"
      ]
    },
    {
      "cell_type": "code",
      "metadata": {
        "id": "Mqh4Vff1_cjX"
      },
      "source": [
        "#kysytään käyttäjältä kahden henkilön iät ja tallennetaan se muuttujiin ika_1 ja ika_2:\n",
        "ika_1=int(input(\"Mikä on ensimmäisen henkilön ikä?\"))\n",
        "ika_2=int(input(\"Mikä on toisen henkilön ikä?\"))\n",
        "\n",
        "#Ehtolauseen avulla selvitetään, onko henkilö yksi vanhempi kuin henkilö kaksi. \n",
        "if ika_1>ika_2:\n",
        "    #Mikäli ehto täyttyy, tulostetaan \"Henkilö yksi on vanhempi kuin henkilö \n",
        "    #kaksi\"\n",
        "    print(\"Henkilö yksi on vanhempi kuin henkilö kaksi\")"
      ],
      "execution_count": null,
      "outputs": []
    },
    {
      "cell_type": "markdown",
      "metadata": {
        "id": "fHVb-qwn_kDE"
      },
      "source": [
        "Python-ohjelmointikielessä ehtolause toteutetaan if-komennon avulla. Huomaa seuraavan rivin sisennys. Sisennys kertoo tietokoneelle, mitkä rivit suoritetaan ehdon täyttyessä, kaikki heti if-lauseen jälkeen sisennetyt rivit suoritetaan.\n",
        "\n",
        "If-komennon lisäksi voidaan käyttää elif- ja else-komentoja. Elif on lyhenne sanoista else if (muuten jos). \n",
        "\n",
        "Esimerkiksi: \"Jos minulla on nälkä, syön. Muuten jos minulla on jano, juon. Muuten katson televisiota\" \n",
        "\n",
        "Kokeile ajaa alla olevaa esimerkkiä antamalla ohjelmalle eri syötteitä.\n",
        "\n"
      ]
    },
    {
      "cell_type": "code",
      "metadata": {
        "id": "R9i-Bi4X_mV5"
      },
      "source": [
        "#kysytään käyttäjältä ikä ja tallennetaan se muuttujaan ika:\n",
        "ika=int(input(\"Kuinka vanha olet?\"))\n",
        " \n",
        "#Ehtolauseen avulla selvitetään, onko käyttäjä alle 16-vuotias:\n",
        "if ika<16:\n",
        "    #Mikäli ehto täyttyy, tulostetaan \"Olet alle 16-vuotias\"\n",
        "    print(\"Olet alle 16-vuotias\")\n",
        "#Mikäli käyttäjä oli yli 16-vuotias, selvitetään onko hän silti alaikäinen:\n",
        "elif ika<18:\n",
        "    print(\"Olet jo yli 16 mutta alaikäinen\")\n",
        "#Jos käyttäjä ei ollut alaikäinen siirrytään else lauseeseen:\n",
        "else:\n",
        "    print(\"Olet täysi-ikäinen!\")"
      ],
      "execution_count": null,
      "outputs": []
    },
    {
      "cell_type": "markdown",
      "metadata": {
        "id": "k2TRReXDAgQx"
      },
      "source": [
        "#### Tehtävä 2.1\n",
        "\n",
        "Tee ohjelma, joka kysyy käyttäjän iän ja tulostaa museon pääsylipun hinnan. Museolipun hinta määräytyy seuraavasti:\n",
        "\n",
        "-alle 5-vuotiaat pääsevät ilmaiseksi\n",
        "\n",
        "-5-15 -vuotiaat maksavat 7 euroa\n",
        "\n",
        "-Yli 15-vuotiaat maksavat 15 euroa\n",
        "\n",
        "\n",
        "Katso tarvittaessa mallia aiemmista esimerkeistä. Kun luulet olevasi valmis, kokeile ohjelmaa eri ikäisillä, ja tarkista, että se toimii odotetulla tavalla.\n"
      ]
    },
    {
      "cell_type": "code",
      "metadata": {
        "id": "G5xIc8HtAfHb"
      },
      "source": [
        "#1. Kysy ensin käyttäjän ikää input-komennolla ja tallenna muuttujaan. \n",
        "#Muista käyttäjän syöte kokonaisluvuksi int()-funktiolla\n",
        " \n",
        "ika=\n",
        " \n",
        " \n",
        "#2. Selvitä ehtolauseiden avulla, mihin hintaluokkaan käyttäjä kuuluu ja tulosta oikea hinta:\n",
        " \n",
        "#Jos käyttäjä on alle 5-vuotias\n",
        "if\n",
        " \n",
        "#Muuten jos käyttäjä on alle 15-vuotias\n",
        "elif\n",
        " \n",
        "#Muuten\n",
        "else:"
      ],
      "execution_count": null,
      "outputs": []
    },
    {
      "cell_type": "markdown",
      "metadata": {
        "id": "9O2yro3iDw9p"
      },
      "source": [
        "#### Tehtava 2.2\n",
        "Seuraavassa tehtävässä yhdistetään kaikkea tähän asti opittua.\n",
        "\n",
        "Tehtävänäsi on ohjelmoida yksinkertainen kassakone. Ohjelma kysyy käyttäjältä minkä tuotteen hän haluaa kahdesta eri vaihtoehdosta. Tämän jälkeen käyttäjältä kysytään kuinka monta kappaletta hän haluaa kyseistä tuotetta. Ohjelma tulostaa oikean hinnan.\n",
        "\n",
        "Hyödynnä tehtävässä käyttäjän syötteen kysymistä ja tallentamista muuttujaan, matemaattisia operaattoreita, ehtolauseita ja tulostamista.\n",
        "\n",
        "Kaupan hinnasto:\n",
        "\n",
        "-Tuote 1: korvapuusti 3€\n",
        "\n",
        "-Tuote 2: vesipullo 2€\n"
      ]
    },
    {
      "cell_type": "code",
      "metadata": {
        "id": "QALgKAgJB11x"
      },
      "source": [
        "#1. Kysy ensin käyttäjältä minkä tuotteen hän haluaa, ja tallenna tämä muuttujaan\n",
        "#Esimerkiksi lauseella \"Kirjoita haluamasi tuotteen numero. Tuote 1 on korvapuusti ja tuote 2 on vesipullo\"\n",
        "\n",
        "\n",
        "#2. Kysy seuraavaksi kuinka monta kappaletta käyttäjä haluaa ostaa, ja tallenna tämä muuttujaan\n",
        "\n",
        "\n",
        "#3. Käytä ehtolauseita selvittääksesi, mitä tuotetta käyttäjä tilasi.\n",
        "#Laske ostosten kokonaishinta kertolaskun avulla ja tulosta se.\n",
        "\n",
        "#3.1 jos tuote on 1 \n",
        "if\n",
        "\n",
        "#3.2 jos tuote on 2\n",
        "if \n",
        "\n",
        "\n",
        "#Tulosta hinta\n",
        "\n",
        "\n"
      ],
      "execution_count": null,
      "outputs": []
    },
    {
      "cell_type": "markdown",
      "metadata": {
        "id": "jZiZtfO742Wq"
      },
      "source": [
        "## 3. Silmukat\n",
        "\n",
        "Silmukat ovat niin sanottuja toistorakenteita. Niiden avulla voidaan toistaa samaa ohjelmakoodia moneen kertaan ilman, että koodia täytyy kirjoittaa moneen kertaan. Koodi, jota halutaan toistaa, sisennetään kuten ehtolauseissa.\n",
        "\n",
        "### 3.1 for-silmukka\n",
        "\n",
        "for-silmukkaa kannattaa käyttää silloin, kun tiedetään kuinka monta kertaa toistettava ohjelma halutaan toistaa. For-silmukkaa käytetään yleisesti myös erilaisten listojen läpikäyntiin.\n",
        "\n",
        "For-silmukan kanssa on usein hyödyllistä käyttää range()-funktiota, joka tekee sarjan numeroita. Esimerkiksi range(5) tekee sarjan numeroita nollasta neljään(5-1=4). \n",
        "\n",
        "Aja alla olevat esimerkit ja kokeile muuttaa lukua range-funktion sisällä. Mitä tapahtuu?"
      ]
    },
    {
      "cell_type": "code",
      "metadata": {
        "id": "iteArFk-FVa8"
      },
      "source": [
        "#Mikäli halutaan, että ohjelma tervehtii käyttäjää monta kertaa, voidaan käyttää \n",
        "#for-silmukkaa ja range()-funktiota:\n",
        "\n",
        "for i in range(3):\n",
        "  print(\"Moi!\")"
      ],
      "execution_count": null,
      "outputs": []
    },
    {
      "cell_type": "code",
      "metadata": {
        "id": "NOmy1gWcGgTT"
      },
      "source": [
        "#for-silmukkaa ja range()-funktiota voidaan hyödyntää myös, jos halutaan tulostaa \n",
        "#luvut nollasta yhdeksään\n",
        "\n",
        "for i in range(10):\n",
        "  print(i)"
      ],
      "execution_count": null,
      "outputs": []
    },
    {
      "cell_type": "markdown",
      "metadata": {
        "id": "FdV8SYoxGzpE"
      },
      "source": [
        "Ylläolevista esimerkeistä nähtiin, että kun käytetään for-silmukkaa ja range-funktiota, for-silmukan sisällä oleva sisennetty koodi toistetaan range()-funktiolle annetun luvun mukainen määrä. Lisäksi huomattiin, että range-funktion tekemän sarjan luvut tallentuvat vuorotellen annettuun muuttujaan (esimerkeissä tämän muuttujan nimi on i). \n",
        "\n",
        "Tätä muuttujaa voidaan käyttää kuten mitä tahansa muutakin muuttujaa esimerkiksi kerto ja jakolaskuissa."
      ]
    },
    {
      "cell_type": "markdown",
      "metadata": {
        "id": "ORibpavtIFAg"
      },
      "source": [
        "### Tehtävä 3.1\n",
        "\n",
        "Toteuta ohjelma, joka laskee haluamasi luvun kertotaulun. Hyödynnä for-silmukkaa yhdessä range-funktion kanssa."
      ]
    },
    {
      "cell_type": "code",
      "metadata": {
        "id": "YPnNZPVzIElf"
      },
      "source": [
        "#1. Ensin tehdään for-silmukka hyödyntäen range-funktiota. Silmukka halutaan\n",
        "#halutaan toistaa 10 kertaa, joten range- funktiolle annetaan luvuksi 10\n",
        "\n",
        "for...\n",
        "  #2. for-silmukan sisällä lasketaan, ja tulostetaan halutun luvun kertotaulu\n",
        "  #hyödyntämällä muuttujaa, johon tallennetaan range-funktion tekemän lukusarjan lukuja"
      ],
      "execution_count": null,
      "outputs": []
    },
    {
      "cell_type": "markdown",
      "metadata": {
        "id": "t6M_nOVXJF7Z"
      },
      "source": [
        "### 3.2 While-silmukka\n",
        "\n",
        "While-silmukka on toistorakenne, joka toistaa haluttua ohjelmakoodia niin kauan, kunnes jokin ehto täyttyy. While-silmukkaa käytetään siis yhdessä vertailuoperaattoreiden kanssa."
      ]
    },
    {
      "cell_type": "code",
      "metadata": {
        "id": "RrjEwOabJZbY"
      },
      "source": [
        "#Haluamme jälleen tervehtiä käyttäjää monta kertaa. Tällä kertaa yhteensä 5 kertaa\n",
        "#ja hyödyntäen while-silmukkaa:\n",
        "\n",
        "#luodaan ensin muuttuja, johon tallennetaan tieto siitä, kuinka monta kertaa\n",
        "#käyttäjää on tervehditty, eli kuinka monta kertaa koodi on toistettu. Aluksi\n",
        "#toistoja ei vielä ole eli muuttuja asetetaan nollaksi\n",
        "kerta=0\n",
        "\n",
        "#Halusimme tervehtiä 5 kertaa, joten silmukan toistua niin kauan kun kerta<5:\n",
        "while kerta<5:\n",
        "  #silmukan sisällä ensin tulostetaan haluttu tervehdys\n",
        "  print(\"Moi!\")\n",
        "  #nyt kerta-muuttujaan lisätään 1, sillä olemme tervehtineet käyttjää yhden kerran lisää\n",
        "  kerta = kerta+1"
      ],
      "execution_count": null,
      "outputs": []
    },
    {
      "cell_type": "markdown",
      "metadata": {
        "id": "CIIOrlBfKaKA"
      },
      "source": [
        "Ylläolevassa esimerkissä toistojen määrä tiedettiin valmiiksi mutta yleensä while-silmukkaa kannattaa käyttää, jos toistojen määrää ei tiedetä etukäteen. \n"
      ]
    },
    {
      "cell_type": "code",
      "metadata": {
        "id": "8SP8NAShKrrL"
      },
      "source": [
        "#Sinulla on 4€ ja haluat ostaa 30snt hintaisia tikkareita niin monta kuin pystyt.\n",
        "#Et osaa laske päässä, kuinka monta tikkaria saat, joten kirjoitat ohjelman, \n",
        "#joka laskee while-silmukan avulla kuinka monta tikkaria saat ostettua.\n",
        "\n",
        "#ensin määritellään muuttuja raha, johon tallennetaan jäljellä olevan rahan määrä\n",
        "#alussa rahaa on 4€\n",
        "raha = 4\n",
        "\n",
        "#lisäksi määritellään muuttuja tikkarit, johon tallennetaan ostettujen tikkareiden määrä\n",
        "#aluksi tikkareita on 0\n",
        "tikkarit = 0\n",
        "\n",
        "#tikkareita ostetaan lisää niin kauan, kun rahaa riittää, eli rahaa on vähintään 30 senttiä:\n",
        "while raha>=0.3:\n",
        "  #jos rahaa on tarpeeksi, ostetaan yksi tikkari lisää\n",
        "  tikkarit = tikkarit+1\n",
        "  #koska ostit tikkarin, rahoista vähennetään tikkarin hinta\n",
        "  raha = raha-0.3\n",
        "\n",
        "#lopuksi tulostetaan kuinka monta tikkaria sait ostettua:\n",
        "print(tikkarit, \"tikkaria\")\n",
        "#lisäksi tulostetaan kuinka paljon rahaa jäi jäljelle:\n",
        "print(\"sinulle jäi\", raha, \"euroa\")"
      ],
      "execution_count": null,
      "outputs": []
    },
    {
      "cell_type": "markdown",
      "metadata": {
        "id": "qyxYF09lL6Vb"
      },
      "source": [
        "### Tehtävä 3.2\n",
        "Laske kuinka monta peräkkäistä kokonaislukua pitää laskea yhteen, jotta summa ylittää 100.\n",
        "\n",
        "Käytä tehtävässä while-silmukkaa ja tulosta vastaus"
      ]
    },
    {
      "cell_type": "code",
      "metadata": {
        "id": "BkzmRvsvMU1o"
      },
      "source": [
        "#1. Määrittele muuttuja kokonaisluku, joka on aluksi 1 ja kasvaa jokaisella toistolla\n",
        "\n",
        "#2. Määrittele muuttuja summa, johon tallennetaan summa jokaisella toistolla. \n",
        "#summa on aluksi 0\n",
        "\n",
        "#3.Tee while-silmukka, jota toistetaan kunnes summa ylittää sadan\n",
        "while...\n",
        "  #4. silmukan sisällä lisää summa muuttujaan kokonaisluku ja kasvata kokonaislukua yhdellä\n",
        "\n",
        "#5. Kun summa on ylittänyt sadan ja silmukan toisto loppuu, tulosta kokonaisluku"
      ],
      "execution_count": null,
      "outputs": []
    },
    {
      "cell_type": "markdown",
      "metadata": {
        "id": "ijH___4OCMLM"
      },
      "source": [
        "## Lisätehtävä\n",
        "\n",
        "Toteuta laskin. Ohjelma kysyy käyttäjältä, minkä laskutoimituksen hän haluaa tehdä (summa/erotus/tulo/osamäärä). Sen jälkeen ohjelma kysyy mille kahdelle luvulle laskutoimitus tehdään. Lopuksi ohjelma tulostaa laskutoimituksen tuloksen. Toteutuksessa tarvitaan kaikkia työpajassa opetettuja aiheita. "
      ]
    },
    {
      "cell_type": "code",
      "metadata": {
        "id": "mlRE8uWKDoTB"
      },
      "source": [
        "#Lisätehtävä"
      ],
      "execution_count": null,
      "outputs": []
    },
    {
      "cell_type": "markdown",
      "metadata": {
        "id": "WMFkpTmPK3Nm"
      },
      "source": [
        "## Haastava lisätehtävä\n",
        "### Listat ja lajittelualgoritmit\n",
        "\n",
        "Lista on muuttujien säilyttämiseen käytetty tietorakenne. Voit tutustua listojen käyttöön täällä: https://www.cs.helsinki.fi/group/linkki/materiaali/peliohjelmointi/lista.html\n",
        "\n",
        "Lajittelualgoritmit ovat algoritmeja, jotka lajittelevat listan osat sovittuun järjestykseen, esimerkiksi listan sisältämät luvut numerojärjestykseen pienimmästä suurimpaan. Erilaisista lajittelualgoritmeista löydät lisätietoa täältä: https://en.wikipedia.org/wiki/Sorting_algorithm\n",
        "\n",
        "Tehtävänäsi on toteuttaa haluamasi lainen lajittelualgoritmi, joka järestää listaan tallennetut kokonaisluvut pienimmästä suurimpaan. Alla oleva koodi luo sinulle kaksi listaa, jotka sisältävät satunnaisia kokonaislukuja. Voit käyttää listoja algoritmisi testaukseen."
      ]
    },
    {
      "cell_type": "code",
      "metadata": {
        "id": "UWSJTrx8p0ng",
        "colab": {
          "base_uri": "https://localhost:8080/"
        },
        "outputId": "2c87d58f-4acc-41f4-b8e6-70ee68b48bc0"
      },
      "source": [
        "import random\n",
        "#Tämä koodi luo sinulle yhden 10 alkion mittaisen listan ja yhten 1000 alkion mittaisen listan,\n",
        "#joita voit käyttää algoritmisi testauksessa\n",
        "lyhytlista = [] \n",
        "for _ in range(10):\n",
        "    lyhytlista.append(random.randrange(0,10, step=1))\n",
        "pitkalista = []\n",
        "for _ in range(1000):\n",
        "    pitkalista.append(random.randrange(0,1000, step=1))"
      ],
      "execution_count": null,
      "outputs": [
        {
          "output_type": "stream",
          "text": [
            "[575, 748, 455, 899, 628, 769, 659, 318, 742, 561, 152, 71, 964, 637, 611, 923, 489, 722, 532, 990, 113, 98, 549, 819, 323, 855, 412, 410, 149, 509, 376, 178, 603, 626, 644, 109, 213, 538, 344, 931, 36, 980, 406, 902, 552, 889, 95, 167, 850, 792, 498, 38, 226, 651, 258, 605, 8, 755, 811, 948, 723, 822, 370, 206, 921, 492, 243, 799, 915, 140, 397, 1, 934, 263, 460, 6, 3, 904, 750, 130, 648, 799, 581, 860, 366, 416, 459, 564, 350, 362, 610, 363, 919, 854, 730, 736, 134, 410, 753, 187, 737, 16, 44, 606, 803, 604, 870, 458, 357, 546, 486, 136, 889, 970, 357, 508, 304, 80, 263, 177, 715, 247, 970, 995, 570, 453, 417, 366, 141, 904, 389, 481, 240, 810, 541, 178, 316, 759, 86, 84, 270, 404, 964, 81, 789, 192, 759, 650, 108, 38, 850, 995, 48, 39, 10, 762, 560, 457, 906, 90, 901, 572, 573, 13, 660, 88, 301, 380, 734, 35, 972, 889, 729, 997, 308, 178, 221, 544, 454, 174, 116, 569, 367, 981, 349, 854, 774, 721, 103, 876, 322, 577, 484, 636, 926, 0, 39, 485, 912, 375, 156, 961, 312, 976, 439, 960, 714, 541, 98, 147, 657, 328, 770, 514, 574, 52, 334, 645, 911, 994, 632, 730, 292, 487, 215, 734, 111, 571, 400, 213, 460, 688, 984, 504, 832, 394, 972, 578, 822, 560, 209, 297, 43, 938, 264, 380, 569, 854, 106, 376, 374, 865, 749, 384, 656, 716, 919, 254, 545, 104, 420, 162, 575, 765, 374, 412, 505, 972, 772, 538, 466, 191, 549, 166, 921, 874, 152, 775, 546, 727, 870, 786, 824, 82, 35, 463, 398, 223, 802, 707, 966, 297, 509, 521, 339, 418, 466, 55, 220, 694, 316, 545, 194, 244, 218, 337, 666, 571, 631, 958, 821, 385, 861, 963, 959, 237, 32, 844, 233, 768, 183, 778, 388, 794, 763, 895, 972, 81, 104, 15, 310, 924, 341, 436, 662, 713, 712, 254, 430, 85, 141, 587, 310, 947, 382, 384, 629, 859, 370, 734, 376, 904, 788, 328, 983, 879, 470, 594, 304, 464, 456, 963, 477, 509, 136, 789, 325, 590, 446, 211, 430, 43, 755, 201, 972, 761, 30, 684, 224, 998, 350, 591, 982, 747, 287, 909, 531, 514, 995, 888, 164, 932, 751, 773, 102, 715, 264, 560, 745, 178, 722, 556, 397, 75, 115, 404, 355, 480, 315, 474, 427, 206, 372, 641, 716, 949, 53, 233, 74, 789, 488, 671, 372, 166, 548, 915, 99, 344, 558, 212, 801, 469, 571, 868, 616, 870, 220, 509, 372, 628, 119, 410, 189, 991, 194, 607, 661, 782, 667, 100, 453, 637, 332, 295, 381, 606, 500, 620, 397, 36, 368, 190, 933, 722, 793, 102, 205, 13, 65, 445, 35, 611, 699, 314, 307, 210, 494, 558, 374, 858, 305, 241, 434, 940, 521, 225, 548, 567, 869, 996, 283, 848, 591, 421, 202, 983, 119, 531, 725, 559, 969, 432, 644, 879, 446, 982, 861, 244, 593, 840, 281, 732, 872, 93, 598, 86, 680, 301, 61, 224, 723, 195, 711, 97, 251, 61, 157, 389, 915, 913, 214, 811, 222, 381, 206, 340, 44, 722, 483, 749, 553, 963, 181, 347, 561, 622, 101, 885, 265, 465, 87, 617, 964, 154, 78, 576, 769, 89, 351, 260, 890, 82, 898, 628, 101, 972, 517, 508, 734, 332, 482, 728, 735, 900, 509, 595, 835, 996, 681, 180, 95, 653, 987, 14, 324, 248, 337, 389, 212, 890, 713, 503, 646, 377, 228, 327, 653, 876, 649, 817, 771, 745, 558, 227, 549, 90, 31, 361, 179, 345, 695, 130, 146, 71, 209, 639, 39, 813, 404, 716, 941, 28, 349, 474, 166, 661, 859, 260, 181, 766, 945, 680, 859, 179, 40, 43, 174, 171, 673, 719, 533, 117, 504, 405, 758, 625, 644, 954, 761, 773, 728, 648, 243, 655, 859, 762, 380, 853, 239, 76, 934, 119, 630, 4, 442, 662, 647, 269, 1, 280, 338, 839, 364, 996, 741, 743, 663, 829, 485, 112, 709, 474, 698, 141, 429, 486, 424, 716, 105, 488, 955, 948, 609, 320, 473, 54, 144, 768, 90, 866, 823, 301, 556, 488, 359, 520, 858, 194, 710, 943, 917, 207, 235, 303, 195, 619, 85, 128, 243, 33, 226, 893, 867, 610, 551, 32, 352, 506, 472, 810, 607, 2, 684, 353, 46, 134, 174, 913, 441, 44, 136, 69, 261, 564, 851, 221, 25, 326, 45, 128, 774, 596, 812, 656, 720, 711, 432, 553, 739, 384, 574, 83, 537, 322, 102, 59, 760, 211, 235, 900, 779, 729, 45, 796, 853, 212, 957, 969, 698, 933, 987, 514, 774, 874, 140, 160, 382, 98, 168, 727, 786, 484, 268, 845, 377, 350, 553, 678, 142, 654, 824, 72, 973, 630, 911, 346, 963, 534, 386, 399, 600, 703, 139, 447, 494, 614, 58, 5, 549, 996, 750, 960, 315, 818, 533, 345, 417, 536, 431, 596, 345, 280, 803, 142, 110, 551, 677, 681, 56, 943, 424, 95, 13, 390, 471, 437, 898, 484, 110, 240, 844, 132, 225, 795, 190, 403, 314, 819, 216, 104, 331, 9, 505, 119, 493, 431, 15, 699, 232, 619, 67, 93, 787, 876, 600, 301, 223, 248, 503, 50, 376, 964, 776, 373, 364, 942, 786, 589, 40, 420, 621, 214, 940, 578, 27, 13, 880, 111, 332, 941, 990, 19, 494, 905, 496, 127, 774, 729, 25, 357, 669, 280, 721, 675, 412, 904, 119, 712, 813, 694, 436, 244, 269, 773, 314, 916, 440, 951, 865, 11, 756, 677, 570, 908, 350, 842, 358, 652, 297, 310, 615, 783, 135, 313, 744, 620, 463, 66, 984, 568, 234, 173, 635, 134, 185, 454, 225, 985, 725, 996, 938, 415, 13, 807, 838, 395, 862, 637, 963, 417, 938, 406, 404, 950, 531, 420, 949, 244, 446, 43, 523, 754, 541, 8, 634, 148, 116, 203, 345, 467, 775, 596, 623, 248, 139, 28, 349, 531, 65, 646]\n"
          ],
          "name": "stdout"
        }
      ]
    },
    {
      "cell_type": "code",
      "metadata": {
        "id": "wNcj8tSJN1AI"
      },
      "source": [
        "#Toteuta lajittelualgoritmisi tähän soluun. Voit tarkistaa toimivuuden käyttämällä\n",
        "#lyhyempää listaa ja tulostamalla valmiiksi lajitellun listan.\n",
        "#Voit luoda lisää muuttujia, kuten listoja tarvittaessa"
      ],
      "execution_count": null,
      "outputs": []
    }
  ]
}
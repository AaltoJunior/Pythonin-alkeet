{
 "cells": [
  {
   "cell_type": "markdown",
   "id": "ef4142c5",
   "metadata": {},
   "source": [
    "# Ohjelmoinnin alkeet Pythonilla\n",
    "\n",
    "Suomenkieleiseen työpajaan pääset [tästä!](FI/fi_python_ohjelmointi.ipynb)"
   ]
  },
  {
   "cell_type": "markdown",
   "id": "114b1318",
   "metadata": {},
   "source": [
    "# Programming basics with Python\n",
    "\n",
    "Access the English workshop [here!](EN/en_python_programming.ipynb)"
   ]
  },
  {
   "cell_type": "markdown",
   "id": "6a4ce9e3",
   "metadata": {},
   "source": [
    "# Grunder i programmering med Python\n",
    "\n",
    "Gå till den svenska workshopen [här!](SE/se_python_programmering.ipynb)"
   ]
  }
 ],
 "metadata": {
  "language_info": {
   "name": "python"
  }
 },
 "nbformat": 4,
 "nbformat_minor": 5
}

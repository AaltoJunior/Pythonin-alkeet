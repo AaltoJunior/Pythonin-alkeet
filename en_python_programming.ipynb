{
  "cells": [
    {
      "attachments": {},
      "cell_type": "markdown",
      "metadata": {
        "id": "3_KQjiny-F-g"
      },
      "source": [
        "# Programming basics with Python"
      ]
    },
    {
      "attachments": {},
      "cell_type": "markdown",
      "metadata": {
        "id": "oq_BK21iGYOj"
      },
      "source": [
        "Welcome to study the basics of Python programming. \n",
        "\n",
        "In this material the are three parts. In each part there are theory included with examples and exercises. In the exercises you will learn the basics of Python programming while coding your self."
      ]
    },
    {
      "attachments": {},
      "cell_type": "markdown",
      "metadata": {
        "id": "V9-TLbr3JdLW"
      },
      "source": [
        "### What is programming?\n",
        "\n",
        "Programming is giving instruction to computes in a specific programming language. There are many programming languages, but in this workshop we use Python. Python was developed by and Guido van Rossum in 1990. Python is really widely used programming language and in 2019 it become the worlds second most used programming language. Python is a great programming language for beginner for it's simple syntax and wide availability.\n",
        "\n",
        "Down bellow is an example code that counts the discounted prices for products. You don't have to understand this code but try to run it to see what happens. Code can be RUN by pressing the \"play\" button in the left upper corner while the code block is selected. When te code is run the computer reads it line by line starting from the top. The computer doesn't read line starting with the # symbol since these are comment to help readability for the humans. They are really useful and should be widely used to help other understand what your code is doing.\n"
      ]
    },
    {
      "cell_type": "code",
      "execution_count": null,
      "metadata": {
        "id": "XW7krBcDT_x2"
      },
      "outputs": [],
      "source": [
        "# This program stores product price, name and discount (%) in variables and calculated new price using the variables.\n",
        "# After that the program prints out the product name and the new price.\n",
        "\n",
        "\n",
        "# First store the name, price and discount (%) to variables\n",
        "product_name = \"Strawberry ice cream\"\n",
        "original_price = 2\n",
        "discount = 30\n",
        "\n",
        "# Calculate then new price\n",
        "new_price = original_price-(original_price*discount/100)\n",
        "\n",
        "# Print out the product and the discounted price\n",
        "print(\"Product:\", product_name, \"New price:\", new_price, \"€\")"
      ]
    },
    {
      "attachments": {},
      "cell_type": "markdown",
      "metadata": {
        "id": "5EvHpyuN4yrD"
      },
      "source": [
        "## 1. Variables, Printing and Input from the user"
      ]
    },
    {
      "attachments": {},
      "cell_type": "markdown",
      "metadata": {
        "id": "vfZmOU0CH6-B"
      },
      "source": [
        "### Printing\n",
        "\n",
        "\n",
        "Printing is useful and important feature in programming. Printing is the simplest way to get output to the user and that for it's a great start for programming exercise.\n",
        "\n",
        "In python the Printin is done using the `print()` function. In the parentheses goes what we want to print out to the user.\n",
        "\n",
        "Down bellow is an example if using the print function to print out string (text). Try to run this code and edit the text!"
      ]
    },
    {
      "cell_type": "code",
      "execution_count": null,
      "metadata": {
        "id": "XpW6n-gCbtcA"
      },
      "outputs": [],
      "source": [
        "# Print out the text \"Hi! It's a beautiful day today\"\n",
        "print(\"Hi! It's a beautiful day today\")"
      ]
    },
    {
      "attachments": {},
      "cell_type": "markdown",
      "metadata": {
        "id": "U8hQDcqwMFnb"
      },
      "source": [
        "### Exercise 1.1\n",
        "\n",
        "We start coding with a really classic programming exercise. This is also the first exercise on programming courses in University.\n",
        "In this exercise we have to write code that prints out \"Hello World!\""
      ]
    },
    {
      "cell_type": "code",
      "execution_count": null,
      "metadata": {
        "id": "pJKAbFVoMLw_"
      },
      "outputs": [],
      "source": [
        "# Print \"Hello World!\" with the print function.\n"
      ]
    },
    {
      "attachments": {},
      "cell_type": "markdown",
      "metadata": {
        "id": "xBKfLayodqz_"
      },
      "source": [
        "### Variables\n",
        "\n",
        "Variables can be used to store values. Variables are created with the equals sign(**=**). On the left side is the variable name and on the right side is the value for the variable. Whit this when we write the variable name in the code the computed will see the value assigned to the variable. The variables can also be changed in the same way they are assigned. \n",
        "\n",
        "When naming variables you have to be bit careful. Don't use special characters (ä, ö, å, @, !, ...) and also white spaces are not allowed. It's also important to keep in mid that the variable name should make some sense and be easily readable. Also the upper and lower cases matters. For example `VariableName` and `variablename` would be different variables\n",
        "\n",
        "Let's get familiar with three variable types:\n",
        "\n",
        "\n",
        "\n",
        "> Whole numbers (Integers) **int**\n",
        "\n",
        "\n",
        "> Decimal numbers (floating point numbers) **float**\n",
        "\n",
        "\n",
        "> Text (Strings) **str**\n",
        "\n",
        "\n",
        "\n",
        "Run the code down bellow and try to make it say hello to you! You only need to change the variables."
      ]
    },
    {
      "cell_type": "code",
      "execution_count": null,
      "metadata": {
        "id": "3cWKaQ7FgsCO"
      },
      "outputs": [],
      "source": [
        "# Replace the string \"Anna\" with your name and 15 with your age\n",
        "name = \"Anna\"\n",
        "age = 15\n",
        "\n",
        "# Print it out\n",
        "print(\"Hi! My name is\", name, \"and im\", age, \"yours old\")"
      ]
    },
    {
      "attachments": {},
      "cell_type": "markdown",
      "metadata": {
        "id": "TM2UDNkypvU9"
      },
      "source": [
        "### Mathematical operators\n",
        "Mathematical operators are required to do math. Most of these are familiar from math class!\n",
        "> Addition **+**\n",
        "\n",
        "\n",
        "> Subtraction **-**\n",
        "\n",
        "\n",
        "> Multiplication **\\***\n",
        "\n",
        "\n",
        "> Division **/**\n",
        "\n",
        "\n",
        "> Power **\\*\\***\n",
        "\n",
        "\n",
        "> Remainder (modulo) **%**\n",
        "\n",
        "\n",
        "> Division that rounds down **//**\n",
        "\n",
        "Run the code bellow. Try tho change the values! Did you get the right results?"
      ]
    },
    {
      "cell_type": "code",
      "execution_count": null,
      "metadata": {
        "id": "Ml7udHZnuJf9"
      },
      "outputs": [],
      "source": [
        "# Define the variables number1 and number2 \n",
        "number1 = 4\n",
        "number2 = 2\n",
        "\n",
        "# Define more variables using the variables we just created and some math.\n",
        "sum = number1 + number2\n",
        "difference = number1 - number2\n",
        "product = number1 * number2\n",
        "quotient = number1 / number2\n",
        "\n",
        "# Print out the results\n",
        "print(\"Sum:\", sum, \"Difference:\", difference, \"Product:\", product, \"Quotient:\", quotient)"
      ]
    },
    {
      "attachments": {},
      "cell_type": "markdown",
      "metadata": {
        "id": "HJeLnqgZNECA"
      },
      "source": [
        "### Exercise 1.2\n",
        "\n",
        "Code a program in which thee integer variables are defined. Print out the sum of these variables!"
      ]
    },
    {
      "cell_type": "code",
      "execution_count": null,
      "metadata": {
        "id": "SPZsZw_YNU6d"
      },
      "outputs": [],
      "source": [
        "# Define thee integer variables\n",
        "\n",
        "\n",
        "\n",
        "# Print out the sum of the variables"
      ]
    },
    {
      "attachments": {},
      "cell_type": "markdown",
      "metadata": {
        "id": "6NeJ41tew34C"
      },
      "source": [
        "### Getting input from the user\n",
        "\n",
        "Now we know how to display information to the user. But we can also ask information from the user. In Python this is done with the `input()` function. With the input function you can write in the parentheses a string that is displayed before the input is asked from the user. Usually we use this tho ask a question from the user. Input functions result can be saved to a variable and this way we can utilize the information in the code."
      ]
    },
    {
      "cell_type": "code",
      "execution_count": null,
      "metadata": {
        "id": "FYb9TqfCzR-o"
      },
      "outputs": [],
      "source": [
        "# Ask for the users name and save it to a variable called name\n",
        "name = input(\"Whats your name?\")\n",
        "\n",
        "# Say hi to to user\n",
        "print(\"Hi\", name)"
      ]
    },
    {
      "attachments": {},
      "cell_type": "markdown",
      "metadata": {
        "id": "puQ5FG7hzoHe"
      },
      "source": [
        "With the input function we always receive a string even if the string only contains numbers. We cannot do math with strings so we have to convert the string to integer (**int**). For this we can use the `int()` function as show down bellow. Try to run the code!"
      ]
    },
    {
      "cell_type": "code",
      "execution_count": null,
      "metadata": {
        "id": "Rujq3rRmNaU1"
      },
      "outputs": [],
      "source": [
        "# Ask for the users age\n",
        "age = int(input(\"What is your age?\"))\n",
        " \n",
        "# Calculate the users age after 10 years\n",
        "age2 = age + 10\n",
        " \n",
        "# Print out the news age\n",
        "print(\"Your age now:\", age, \"In 10 years you will be:\", age2)"
      ]
    },
    {
      "attachments": {},
      "cell_type": "markdown",
      "metadata": {
        "id": "ArwdulvV3lYr"
      },
      "source": [
        "### Exercise 1.3\n",
        "\n",
        "Write a program that asks for the favorite animal and prints it out. Utilize the `input()` and `print()` functions."
      ]
    },
    {
      "cell_type": "code",
      "execution_count": null,
      "metadata": {
        "id": "WD52aUWn4Hbq"
      },
      "outputs": [],
      "source": [
        "# Ask for the users favorite animal with the input function and save it to the favorite_animal variable\n",
        "\n",
        "favorite_animal = ...\n",
        "\n",
        "# Print the favorite animal from the variable using the print function"
      ]
    },
    {
      "attachments": {},
      "cell_type": "markdown",
      "metadata": {
        "id": "M_KobpDQ6RFj"
      },
      "source": [
        "### Exercise 1.4\n",
        "Write a program that asks four whole numbers (integers) from the user and saves them to variables. After that calculate the average of the numbers and print it out!"
      ]
    },
    {
      "cell_type": "code",
      "execution_count": null,
      "metadata": {
        "id": "c_vfkI876Z2l"
      },
      "outputs": [],
      "source": [
        "# Ask for four integers and save them to variables\n",
        "\n",
        "\n",
        "# Calculate the average of the numbers and print it out"
      ]
    },
    {
      "attachments": {},
      "cell_type": "markdown",
      "metadata": {
        "id": "K1u215G14tb3"
      },
      "source": [
        "## 2. Relational operators and conditional expressions"
      ]
    },
    {
      "attachments": {},
      "cell_type": "markdown",
      "metadata": {
        "id": "Oskd18uB477J"
      },
      "source": [
        "### Relational operators\n",
        "\n",
        "In programming we can use relational operators that are familiar from maths\n",
        "\n",
        "**==** equal to\n",
        "\n",
        "**!=** not equal to\n",
        "\n",
        "**<** less than\n",
        "\n",
        "**\\>** greater than\n",
        "\n",
        "**<=** less than or equal to\n",
        "\n",
        "**\\>=** greater than or equal to\n",
        "\n",
        "**Note!** only one equal sign (=) is the assignment operator and two equal signs (==) is the relational operator.\n",
        "\n"
      ]
    },
    {
      "attachments": {},
      "cell_type": "markdown",
      "metadata": {
        "id": "tGCvgFnV6Gdi"
      },
      "source": [
        "### Conditional expressions\n",
        "\n",
        "With conditional expressions if the condition is true the code will run the code.\n",
        "\n",
        "Non code example would be \"If im hungry I eat\" \n",
        "\n",
        "In programming we use the Relational operators in the conditional expressions. Try to run the code bellow and give it different inputs!"
      ]
    },
    {
      "cell_type": "code",
      "execution_count": null,
      "metadata": {
        "id": "Mqh4Vff1_cjX"
      },
      "outputs": [],
      "source": [
        "# Ask the user for ages of two people and store them to variables age_1 and age_2\n",
        "age_1 = int(input(\"What is the age of the first person?\"))\n",
        "age_2 = int(input(\"What is the age of the second person?\"))\n",
        "\n",
        "# Using Conditional expression we find out if the first person is older than the second person\n",
        "if age_1 > age_2:\n",
        "    #If the condition is true we print out \"First person is older than the second person\"\n",
        "    print(\"First person is older than the second person\")"
      ]
    },
    {
      "attachments": {},
      "cell_type": "markdown",
      "metadata": {
        "id": "fHVb-qwn_kDE"
      },
      "source": [
        "In python conditional expressions are done with the `if` command. Keep in mind that the indentations tell which rows are part of the if condition.\n",
        "\n",
        "If command can be used together with `elif` and `else` commands. Elif stands for Else If.\n",
        "\n",
        "For example \"If im hungry I eat. But (elif) if im thirsty I drink. Otherwise (else) I watch TV.\"\n",
        "\n",
        "Try to run the example code bellow and give it different inputs."
      ]
    },
    {
      "cell_type": "code",
      "execution_count": null,
      "metadata": {
        "id": "R9i-Bi4X_mV5"
      },
      "outputs": [],
      "source": [
        "# Ask the user for their age and save it to a variable\n",
        "age = int(input(\"How old are you?\"))\n",
        " \n",
        "# Using a conditional expression we can find out if the user is under 16 years old\n",
        "if age < 16:\n",
        "    # if the condition is true print out \"You are under 16 years old\"\n",
        "    print(\"You are under 16 years old\")\n",
        "# If the user is over 16 years old we found out if he is under age (18)\n",
        "elif age < 18:\n",
        "    print(\"You are over 16 but under age\")\n",
        "# If the user was not under age we continue to the else part\n",
        "else:\n",
        "    print(\"You are over 18!\")"
      ]
    },
    {
      "attachments": {},
      "cell_type": "markdown",
      "metadata": {
        "id": "k2TRReXDAgQx"
      },
      "source": [
        "#### Exercise 2.1\n",
        "\n",
        "Write a program that asks the users age and prints out the price for a museum ticket. \n",
        "The museum ticket prices are determined accordingly:\n",
        "\n",
        "- Under 5 years for free\n",
        "- 5-5 years is 7€\n",
        "- Over 15 is 15€\n",
        "\n",
        "\n",
        "\n",
        "If necessary refer to the earlier examples. When you think that your program is done test it whit different ages to be sure that it functions correctly.\n"
      ]
    },
    {
      "cell_type": "code",
      "execution_count": null,
      "metadata": {
        "id": "G5xIc8HtAfHb"
      },
      "outputs": [],
      "source": [
        "# 1. Ask for the users age with the input() function and save it to a variable\n",
        "# Remember to convert the input to an integer with the int() function\n",
        " \n",
        "age = ...\n",
        " \n",
        " \n",
        "# 2. Use conditional expression to find out which price group is appropriate for the user and print out the price\n",
        " \n",
        "# If the user is under 5 years old\n",
        "if\n",
        " \n",
        "# Else if the user is under 15 years old\n",
        "elif\n",
        " \n",
        "# Else\n",
        "else:"
      ]
    },
    {
      "attachments": {},
      "cell_type": "markdown",
      "metadata": {
        "id": "9O2yro3iDw9p"
      },
      "source": [
        "#### Exercise 2.2\n",
        "\n",
        "In this exercise we combine everything we have learned.\n",
        "\n",
        "Your task is to program a simple cash register. The program asks for which product the customer wants. After this we ask how many of those the customer wants. After that the program prints out the price for the products.\n",
        "\n",
        "Utilize input, variables, mathematical operators, conditional expressions and printing.\n",
        "\n",
        "\n",
        "| Product: | Price |\n",
        "| ----------- | ----------- |\n",
        "| Cinnamon roll | 3€ |\n",
        "| Water bottle | 2€ |"
      ]
    },
    {
      "cell_type": "code",
      "execution_count": null,
      "metadata": {
        "id": "QALgKAgJB11x"
      },
      "outputs": [],
      "source": [
        "# 1. First ask the customer which product he wants and save that to a variable.\n",
        "# For example \"Type the number of the product. Product 1 is a cinnamon roll and product 2 is a water bottle\".\n",
        "\n",
        "\n",
        "# Now we ask how many of those the customer wants and save that to a variable as well.\n",
        "\n",
        "\n",
        "\n",
        "# 3. Use a conditional expression to find out which product the customer ordered.\n",
        "# Calculate the total price for the purchase and print it out.\n",
        "\n",
        "# 3.1 if the product is 1\n",
        "if\n",
        "\n",
        "# 3.2 if the product is 2\n",
        "if \n",
        "\n",
        "\n",
        "# Print out the price\n",
        "\n",
        "\n"
      ]
    },
    {
      "attachments": {},
      "cell_type": "markdown",
      "metadata": {
        "id": "jZiZtfO742Wq"
      },
      "source": [
        "## 3. Loops\n",
        "\n",
        "Loops are so called repeating structures. With loops we can run the same code multiple tines without needing to write it multiple times. The code that we want to repeat is indented like in conditional expressions.\n",
        "\n",
        "### 3.1 For loop\n",
        "\n",
        "For loop should be used when we know how many times we want to run the code. For loops are typically used to go trough lists. \n",
        "\n",
        "With the for loop its usually useful to utilize the `range()` function that makes a series of numbers. For example `range(5)` creates a series of numbers from 0 to 4. (That is five numbers starting from 0 (this is called base zero))\n",
        "\n",
        "Run the examples down bellow and try to change the number inside the `range()` function. What happens?"
      ]
    },
    {
      "cell_type": "code",
      "execution_count": null,
      "metadata": {
        "id": "iteArFk-FVa8"
      },
      "outputs": [],
      "source": [
        "# If we want the program to say \"Hi!\" multiple times we can use the for loop and range() function:\n",
        "\n",
        "for i in range(3):\n",
        "  print(\"Hi!\")"
      ]
    },
    {
      "cell_type": "code",
      "execution_count": null,
      "metadata": {
        "id": "NOmy1gWcGgTT"
      },
      "outputs": [],
      "source": [
        "# For loop and range() function can be used if we want to print numbers from 0 to 9:\n",
        "\n",
        "for i in range(10):\n",
        "  print(i)"
      ]
    },
    {
      "attachments": {},
      "cell_type": "markdown",
      "metadata": {
        "id": "FdV8SYoxGzpE"
      },
      "source": [
        "In these examples we saw that the code inside the for loop is ran the number of times defined in the range function. We also noticed that the numbers generatd by the range function are placed in the variable of the for loop (it was `i` in the example). This variable can be utilized just like any other variable and can be really useful."
      ]
    },
    {
      "attachments": {},
      "cell_type": "markdown",
      "metadata": {
        "id": "ORibpavtIFAg"
      },
      "source": [
        "#### Exercise 3.1\n",
        "\n",
        "Develop a program that prints out a multiplication table for a number. Utilize for loop with the range function."
      ]
    },
    {
      "cell_type": "code",
      "execution_count": null,
      "metadata": {
        "id": "YPnNZPVzIElf"
      },
      "outputs": [],
      "source": [
        "# 1. First we use a for loop with range function to loop 10 times.\n",
        "\n",
        "for...\n",
        "  # 2. Inside the loop we calculate and print the multiplication table.\n",
        "  # Utilize the variable that contains the number from range function (i for example)"
      ]
    },
    {
      "attachments": {},
      "cell_type": "markdown",
      "metadata": {
        "id": "t6M_nOVXJF7Z"
      },
      "source": [
        "### 3.2 While loop\n",
        "\n",
        "While loop is a repeating structure that repeats until a condition is met. \n",
        "While loops are used with the relational operators."
      ]
    },
    {
      "cell_type": "code",
      "execution_count": null,
      "metadata": {
        "id": "RrjEwOabJZbY"
      },
      "outputs": [],
      "source": [
        "# We want to say \"Hi!\" to the user five times. This time we do it whit the while loop.\n",
        "\n",
        "# First we can create a variable that has the information of how many times the program has run. \n",
        "# When staring the value will be 0.\n",
        "\n",
        "times = 0\n",
        "\n",
        "# We wanted to say hi 5 times so we set the loop to loop while times<5:\n",
        "while times < 5:\n",
        "  # Inside the loop print out the hi\n",
        "  print(\"Hi!\")\n",
        "  # Now we add one to the amount of times the code has run\n",
        "  times = times + 1"
      ]
    },
    {
      "attachments": {},
      "cell_type": "markdown",
      "metadata": {
        "id": "CIIOrlBfKaKA"
      },
      "source": [
        "It that example we did know the amount of times we wanted to run the code but usually while loops are used when we don't know that."
      ]
    },
    {
      "cell_type": "code",
      "execution_count": null,
      "metadata": {
        "id": "8SP8NAShKrrL"
      },
      "outputs": [],
      "source": [
        "# You have 4€ and you want to purchase as many of 0.30€ costing lollypops you can. \n",
        "# You don't want to calculate this so you write a program to do it for you.\n",
        "# The program uses a while loop to find out how many lollipops you can buy.\n",
        "\n",
        "# First we declare how much money we have at the start.\n",
        "money = 4\n",
        "\n",
        "# We also need to keep count of the lollypops and this is 0 at the beginning.\n",
        "lollypops = 0\n",
        "\n",
        "# We keep on purchasing more lollypops until until we cannot afford one.\n",
        "while money >= 0.3:\n",
        "  #If we have enough money we purchase one more lollypop\n",
        "  lollypops = lollypops + 1\n",
        "  #Since lollypops cost 0.30€ we deduct this from our amount of money\n",
        "  money = money - 0.3\n",
        "  \n",
        "# Round the amount of money to two decimal places. \n",
        "# Python it self does math in a way that can lead to small errors in decimal's. \n",
        "# This is happens whit binary math under the hood of Python. You can try what happens if you delete this line.\n",
        "money = round(money, 2) \n",
        "\n",
        "# In the end we print out how many lollypops we got.\n",
        "print(lollypops, \"lollypops\")\n",
        "\n",
        "# Also print out how much money was left.\n",
        "print(\"You were left with\", money, \"€\")"
      ]
    },
    {
      "attachments": {},
      "cell_type": "markdown",
      "metadata": {
        "id": "qyxYF09lL6Vb"
      },
      "source": [
        "#### Exercise 3.2\n",
        "Calculate how many consecutive integers we have to add to gether to get the sum to be over 100.\n",
        "\n",
        "Utilize a while loop and print out the answer."
      ]
    },
    {
      "cell_type": "code",
      "execution_count": null,
      "metadata": {
        "id": "BkzmRvsvMU1o"
      },
      "outputs": [],
      "source": [
        "# 1. Define a variable for the integer that is 1 at the beginning and grows with each iteration.\n",
        "\n",
        "# 2. Define variable for the sum and this should start at 0.\n",
        "\n",
        "#  3. Create a while loop that will loop until the sum is over 100\n",
        "while...\n",
        "  # 4. Inside this loop we add the integer to the sum and make the integer grow by one.\n",
        "\n",
        "# 5. When the sum is over 100 and the loop stops print out the integer"
      ]
    },
    {
      "attachments": {},
      "cell_type": "markdown",
      "metadata": {
        "id": "ijH___4OCMLM"
      },
      "source": [
        "## Additional exercise\n",
        "\n",
        "Build a calculator. Program asks the user for which calculation he want to do (plus/minus/times/division). After that the program asks for the numbers for the calculation. After that the program should do the calculation and print out the result."
      ]
    },
    {
      "cell_type": "code",
      "execution_count": null,
      "metadata": {
        "id": "mlRE8uWKDoTB"
      },
      "outputs": [],
      "source": [
        "# Additional exercise"
      ]
    },
    {
      "attachments": {},
      "cell_type": "markdown",
      "metadata": {
        "id": "WMFkpTmPK3Nm"
      },
      "source": [
        "## Additional exercise 2.\n",
        "### Lists and shorting algorithms\n",
        "\n",
        "List is a structure used for storing multiple pieces of information. You can read about list here: https://docs.python.org/3/tutorial/datastructures.html#more-on-lists\n",
        "\n",
        "Shorting algorithms are algorithms that short a list with an chosen order. This could be to arrange all the numbers in a list from smallest to largest. You can read about shorting algorithms here: https://en.wikipedia.org/wiki/Sorting_algorithm\n",
        "\n",
        "You task is to create a shorting algorithm that shorts the numbers in a list from smallest to largest. The code bellow creates two lists for you that include random integers. You can test your algorithm with these."
      ]
    },
    {
      "cell_type": "code",
      "execution_count": null,
      "metadata": {
        "colab": {
          "base_uri": "https://localhost:8080/"
        },
        "id": "UWSJTrx8p0ng",
        "outputId": "2c87d58f-4acc-41f4-b8e6-70ee68b48bc0"
      },
      "outputs": [],
      "source": [
        "import random\n",
        "\n",
        "# This code creates one list containing 10 random integers and one containing 1000 random integers\n",
        "short_list = [] \n",
        "for _ in range(10):\n",
        "    short_list.append(random.randrange(0,10, step=1))\n",
        "    \n",
        "long_list = []\n",
        "for _ in range(1000):\n",
        "    long_list.append(random.randrange(0,1000, step=1))"
      ]
    },
    {
      "cell_type": "code",
      "execution_count": null,
      "metadata": {
        "id": "wNcj8tSJN1AI"
      },
      "outputs": [],
      "source": [
        "# Create your algorithm here. You can test it with the list created before. \n",
        "# You can create new list by running the above code block again."
      ]
    }
  ],
  "metadata": {
    "colab": {
      "collapsed_sections": [
        "Oskd18uB477J",
        "ORibpavtIFAg",
        "t6M_nOVXJF7Z",
        "qyxYF09lL6Vb"
      ],
      "name": "python_ohjelmointi.ipynb",
      "provenance": []
    },
    "kernelspec": {
      "display_name": "Python 3",
      "name": "python3"
    },
    "language_info": {
      "codemirror_mode": {
        "name": "ipython",
        "version": 3
      },
      "file_extension": ".py",
      "mimetype": "text/x-python",
      "name": "python",
      "nbconvert_exporter": "python",
      "pygments_lexer": "ipython3",
      "version": "3.11.3"
    }
  },
  "nbformat": 4,
  "nbformat_minor": 0
}

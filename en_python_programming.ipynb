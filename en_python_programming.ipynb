{
  "cells": [
    {
      "attachments": {},
      "cell_type": "markdown",
      "metadata": {
        "id": "3_KQjiny-F-g"
      },
      "source": [
        "# Programming basics with Python"
      ]
    },
    {
      "attachments": {},
      "cell_type": "markdown",
      "metadata": {
        "id": "oq_BK21iGYOj"
      },
      "source": [
        "Welcome to study the basics of Python programming. \n",
        "\n",
        "In this material the are three parts. In each part there are theory included with examples and exercises. In the exercises you will learn the basics of Python programming while coding your self."
      ]
    },
    {
      "attachments": {},
      "cell_type": "markdown",
      "metadata": {
        "id": "V9-TLbr3JdLW"
      },
      "source": [
        "### What is programming?\n",
        "\n",
        "Programming is giving instruction to computes in a specific programming language. There are many programming languages, but in this workshop we use Python. Python was developed by and Guido van Rossum in 1990. Python is really widely used programming language and in 2019 it become the worlds second most used programming language. Python is a great programming language for beginner for it's simple syntax and wide availability.\n",
        "\n",
        "Down bellow is an example code that counts the discounted prices for products. You don't have to understand this code but try to run it to see what happens. Code can be RUN by pressing the \"play\" button in the left upper corner while the code block is selected. When te code is run the computer reads it line by line starting from the top. The computer doesn't read line starting with the # symbol since these are comment to help readability for the humans. They are really useful and should be widely used to help other understand what your code is doing.\n"
      ]
    },
    {
      "cell_type": "code",
      "execution_count": null,
      "metadata": {
        "id": "XW7krBcDT_x2"
      },
      "outputs": [],
      "source": [
        "# This program stores product price, name and discount (%) in variables and calculated new price using the variables.\n",
        "# After that the program prints out the product name and the new price.\n",
        "\n",
        "\n",
        "# First store the name, price and discount (%) to variables\n",
        "product_name = \"Strawberry ice cream\"\n",
        "original_price = 2\n",
        "discount = 30\n",
        "\n",
        "# Calculate then new price\n",
        "new_price = original_price-(original_price*discount/100)\n",
        "\n",
        "# Print out the product and the discounted price\n",
        "print(\"Product:\", product_name, \"New price:\", new_price, \"€\")"
      ]
    },
    {
      "attachments": {},
      "cell_type": "markdown",
      "metadata": {
        "id": "5EvHpyuN4yrD"
      },
      "source": [
        "## 1. Variables, Printing and Input from the user"
      ]
    },
    {
      "attachments": {},
      "cell_type": "markdown",
      "metadata": {
        "id": "vfZmOU0CH6-B"
      },
      "source": [
        "### Printing\n",
        "\n",
        "\n",
        "Printing is useful and important feature in programming. Printing is the simplest way to get output to the user and that for it's a great start for programming exercise.\n",
        "\n",
        "In python the Printin is done using the `print()` function. In the parentheses goes what we want to print out to the user.\n",
        "\n",
        "Down bellow is an example if using the print function to print out string (text). Try to run this code and edit the text!"
      ]
    },
    {
      "cell_type": "code",
      "execution_count": null,
      "metadata": {
        "id": "XpW6n-gCbtcA"
      },
      "outputs": [],
      "source": [
        "# Print out the text \"Hi! It's a beautiful day today\"\n",
        "print(\"Hi! It's a beautiful day today\")"
      ]
    },
    {
      "attachments": {},
      "cell_type": "markdown",
      "metadata": {
        "id": "U8hQDcqwMFnb"
      },
      "source": [
        "### Exercise 1.1\n",
        "\n",
        "We start coding with a really classic programming exercise. This is also the first exercise on programming courses in University.\n",
        "In this exercise we have to write code that prints out \"Hello World!\""
      ]
    },
    {
      "cell_type": "code",
      "execution_count": null,
      "metadata": {
        "id": "pJKAbFVoMLw_"
      },
      "outputs": [],
      "source": [
        "# Print \"Hello World!\" with the print function.\n"
      ]
    },
    {
      "attachments": {},
      "cell_type": "markdown",
      "metadata": {
        "id": "xBKfLayodqz_"
      },
      "source": [
        "### Variables\n",
        "\n",
        "Variables can be used to store values. Variables are created with the equals sign(**=**). On the left side is the variable name and on the right side is the value for the variable. Whit this when we write the variable name in the code the computed will see the value assigned to the variable. The variables can also be changed in the same way they are assigned. \n",
        "\n",
        "When naming variables you have to be bit careful. Don't use special characters (ä, ö, å, @, !, ...) and also white spaces are not allowed. It's also important to keep in mid that the variable name should make some sense and be easily readable. Also the upper and lower cases matters. For example `VariableName` and `variablename` would be different variables\n",
        "\n",
        "Let's get familiar with three variable types:\n",
        "\n",
        "\n",
        "\n",
        "> Whole numbers (Integers) **int**\n",
        "\n",
        "\n",
        "> Decimal numbers (floating point numbers) **float**\n",
        "\n",
        "\n",
        "> Text (Strings) **str**\n",
        "\n",
        "\n",
        "\n",
        "Run the code down bellow and try to make it say hello to you! You only need to change the variables."
      ]
    },
    {
      "cell_type": "code",
      "execution_count": null,
      "metadata": {
        "id": "3cWKaQ7FgsCO"
      },
      "outputs": [],
      "source": [
        "# Replace the string \"Anna\" with your name and 15 with your age\n",
        "name = \"Anna\"\n",
        "age = 15\n",
        "\n",
        "# Print it out\n",
        "print(\"Hi! My name is\", name, \"and im\", age, \"yours old\")"
      ]
    },
    {
      "attachments": {},
      "cell_type": "markdown",
      "metadata": {
        "id": "TM2UDNkypvU9"
      },
      "source": [
        "### Mathematical operators\n",
        "Mathematical operators are required to do math. Most of these are familiar from math class!\n",
        "> Addition **+**\n",
        "\n",
        "\n",
        "> Subtraction **-**\n",
        "\n",
        "\n",
        "> Multiplication **\\***\n",
        "\n",
        "\n",
        "> Division **/**\n",
        "\n",
        "\n",
        "> Power **\\*\\***\n",
        "\n",
        "\n",
        "> Remainder (modulo) **%**\n",
        "\n",
        "\n",
        "> Division that rounds down **//**\n",
        "\n",
        "Run the code bellow. Try tho change the values! Did you get the right results?"
      ]
    },
    {
      "cell_type": "code",
      "execution_count": null,
      "metadata": {
        "id": "Ml7udHZnuJf9"
      },
      "outputs": [],
      "source": [
        "## Define the variables number1 and number2 \n",
        "number1 = 4\n",
        "number2 = 2\n",
        "\n",
        "# Define more variables using the variables we just created and some math.\n",
        "sum = number1 + number2\n",
        "difference = number1 - number2\n",
        "product = number1 * number2\n",
        "quotient = number1 / number2\n",
        "\n",
        "# Print out the results\n",
        "print(\"Sum:\", sum, \"Difference:\", difference, \"Product:\", product, \"Quotient:\", quotient)"
      ]
    },
    {
      "attachments": {},
      "cell_type": "markdown",
      "metadata": {
        "id": "HJeLnqgZNECA"
      },
      "source": [
        "### Exercise 1.2\n",
        "\n",
        "Code a program in which thee integer variables are defined. Print out the sum of these variables!"
      ]
    },
    {
      "cell_type": "code",
      "execution_count": null,
      "metadata": {
        "id": "SPZsZw_YNU6d"
      },
      "outputs": [],
      "source": [
        "# Define thee integer variables\n",
        "\n",
        "\n",
        "\n",
        "# Print out the sum of the variables"
      ]
    },
    {
      "attachments": {},
      "cell_type": "markdown",
      "metadata": {
        "id": "6NeJ41tew34C"
      },
      "source": [
        "### Getting input from the user\n",
        "\n",
        "Now we know how to display information to the user. But we can also ask information from the user. In Python this is done with the `input()` function. With the input function you can write in the parentheses a string that is displayed before the input is asked from the user. Usually we use this tho ask a question from the user. Input functions result can be saved to a variable and this way we can utilize the information in the code."
      ]
    },
    {
      "cell_type": "code",
      "execution_count": null,
      "metadata": {
        "id": "FYb9TqfCzR-o"
      },
      "outputs": [],
      "source": [
        "# Ask for the users name and save it to a variable called name\n",
        "name = input(\"Whats your name?\")\n",
        "\n",
        "# Say hi to to user\n",
        "print(\"Hi\", name)"
      ]
    },
    {
      "attachments": {},
      "cell_type": "markdown",
      "metadata": {
        "id": "puQ5FG7hzoHe"
      },
      "source": [
        "With the input function we always receive a string even if the string only contains numbers. We cannot do math with strings so we have to convert the string to integer (**int**). For this we can use the `int()` function as show down bellow. Try to run the code!"
      ]
    },
    {
      "cell_type": "code",
      "execution_count": null,
      "metadata": {
        "id": "Rujq3rRmNaU1"
      },
      "outputs": [],
      "source": [
        "# Ask for the users age\n",
        "age = int(input(\"What is your age?\"))\n",
        " \n",
        "# Calculate the users age after 10 years\n",
        "age2 = age + 10\n",
        " \n",
        "# Print out the news age\n",
        "print(\"Your age now:\", age, \"In 10 years you will be:\", age2)"
      ]
    },
    {
      "attachments": {},
      "cell_type": "markdown",
      "metadata": {
        "id": "ArwdulvV3lYr"
      },
      "source": [
        "### Exercise 1.3\n",
        "\n",
        "Write a program that asks for the favorite animal and prints it out. Utilize the `input()` and `print()` functions."
      ]
    },
    {
      "cell_type": "code",
      "execution_count": null,
      "metadata": {
        "id": "WD52aUWn4Hbq"
      },
      "outputs": [],
      "source": [
        "# Ask for the users favorite animal with the input function and save it to the favorite_animal variable\n",
        "\n",
        "favorite_animal = ...\n",
        "\n",
        "# Print the favorite animal from the variable using the print function"
      ]
    },
    {
      "attachments": {},
      "cell_type": "markdown",
      "metadata": {
        "id": "M_KobpDQ6RFj"
      },
      "source": [
        "### Exercise 1.4\n",
        "Write a program that asks four whole numbers (integers) from the user and saves them to variables. After that calculate the average of the numbers and print it out!"
      ]
    },
    {
      "cell_type": "code",
      "execution_count": null,
      "metadata": {
        "id": "c_vfkI876Z2l"
      },
      "outputs": [],
      "source": [
        "# Ask for four integers and save them to variables\n",
        "\n",
        "\n",
        "# Calculate the average of the numbers and print it out"
      ]
    },
    {
      "attachments": {},
      "cell_type": "markdown",
      "metadata": {
        "id": "K1u215G14tb3"
      },
      "source": [
        "## 2. Relational operators and conditional expressions"
      ]
    },
    {
      "attachments": {},
      "cell_type": "markdown",
      "metadata": {
        "id": "Oskd18uB477J"
      },
      "source": [
        "### Relational operators\n",
        "\n",
        "In programming we can use relational operators that are familiar from maths\n",
        "\n",
        "**==** equal to\n",
        "\n",
        "**!=** not equal to\n",
        "\n",
        "**<** less than\n",
        "\n",
        "**\\>** greater than\n",
        "\n",
        "**<=** less than or equal to\n",
        "\n",
        "**\\>=** greater than or equal to\n",
        "\n",
        "**Note!** only one equal sign (=) is the assignment operator and two equal signs (==) is the relational operator.\n",
        "\n"
      ]
    },
    {
      "attachments": {},
      "cell_type": "markdown",
      "metadata": {
        "id": "tGCvgFnV6Gdi"
      },
      "source": [
        "### Conditional expressions\n",
        "\n",
        "Ehtolause tarkoittaa sitä, että, jos jokin ehto täyttyy, tehdään/tapahtuu jokin tietty asia. \n",
        "\n",
        "Esimerkiksi \"Jos minulla on nälkä, syön.\" on ehtolause. \n",
        "\n",
        "Ohjelmoidessa ehtolauseita voidaan toteuttaa vertailuoperaattoreiden avulla. Kokeile ajaa alla olevaa esimerkkiä antamalla ohjelmalle erilaisia syötteitä.\n"
      ]
    },
    {
      "cell_type": "code",
      "execution_count": null,
      "metadata": {
        "id": "Mqh4Vff1_cjX"
      },
      "outputs": [],
      "source": [
        "#Kysytään käyttäjältä kahden henkilön iät ja tallennetaan se muuttujiin ika_1 ja ika_2:\n",
        "ika_1 = int(input(\"Mikä on ensimmäisen henkilön ikä?\"))\n",
        "ika_2 = int(input(\"Mikä on toisen henkilön ikä?\"))\n",
        "\n",
        "#Ehtolauseen avulla selvitetään, onko henkilö yksi vanhempi kuin henkilö kaksi. \n",
        "if ika_1 > ika_2:\n",
        "    #Mikäli ehto täyttyy, tulostetaan \"Henkilö yksi on vanhempi kuin henkilö \n",
        "    #kaksi\"\n",
        "    print(\"Henkilö yksi on vanhempi kuin henkilö kaksi\")"
      ]
    },
    {
      "attachments": {},
      "cell_type": "markdown",
      "metadata": {
        "id": "fHVb-qwn_kDE"
      },
      "source": [
        "Python-ohjelmointikielessä ehtolause toteutetaan if-komennon avulla. Huomaa seuraavan rivin sisennys. Sisennys kertoo tietokoneelle, mitkä rivit suoritetaan ehdon täyttyessä, kaikki heti if-lauseen jälkeen sisennetyt rivit suoritetaan.\n",
        "\n",
        "If-komennon lisäksi voidaan käyttää elif- ja else-komentoja. Elif on lyhenne sanoista else if (muuten jos). \n",
        "\n",
        "Esimerkiksi: \"Jos minulla on nälkä, syön. Muuten jos minulla on jano, juon. Muuten katson televisiota\" \n",
        "\n",
        "Kokeile ajaa alla olevaa esimerkkiä antamalla ohjelmalle eri syötteitä.\n",
        "\n"
      ]
    },
    {
      "cell_type": "code",
      "execution_count": null,
      "metadata": {
        "id": "R9i-Bi4X_mV5"
      },
      "outputs": [],
      "source": [
        "#Kysytään käyttäjältä ikä ja tallennetaan se muuttujaan ika:\n",
        "ika = int(input(\"Kuinka vanha olet?\"))\n",
        " \n",
        "#Ehtolauseen avulla selvitetään, onko käyttäjä alle 16-vuotias:\n",
        "if ika < 16:\n",
        "    #Mikäli ehto täyttyy, tulostetaan \"Olet alle 16-vuotias\"\n",
        "    print(\"Olet alle 16-vuotias\")\n",
        "#Mikäli käyttäjä oli yli 16-vuotias, selvitetään onko hän silti alaikäinen:\n",
        "elif ika < 18:\n",
        "    print(\"Olet jo yli 16 mutta alaikäinen\")\n",
        "#Jos käyttäjä ei ollut alaikäinen siirrytään else lauseeseen:\n",
        "else:\n",
        "    print(\"Olet täysi-ikäinen!\")"
      ]
    },
    {
      "attachments": {},
      "cell_type": "markdown",
      "metadata": {
        "id": "k2TRReXDAgQx"
      },
      "source": [
        "#### Tehtävä 2.1\n",
        "\n",
        "Tee ohjelma, joka kysyy käyttäjän iän ja tulostaa museon pääsylipun hinnan. Museolipun hinta määräytyy seuraavasti:\n",
        "\n",
        "-alle 5-vuotiaat pääsevät ilmaiseksi\n",
        "\n",
        "-5-15 -vuotiaat maksavat 7 euroa\n",
        "\n",
        "-Yli 15-vuotiaat maksavat 15 euroa\n",
        "\n",
        "\n",
        "Katso tarvittaessa mallia aiemmista esimerkeistä. Kun luulet olevasi valmis, kokeile ohjelmaa eri ikäisillä, ja tarkista, että se toimii odotetulla tavalla.\n"
      ]
    },
    {
      "cell_type": "code",
      "execution_count": null,
      "metadata": {
        "id": "G5xIc8HtAfHb"
      },
      "outputs": [],
      "source": [
        "#1. Kysy ensin käyttäjän ikää input-komennolla ja tallenna muuttujaan. \n",
        "#Muista käyttäjän syöte kokonaisluvuksi int()-funktiolla\n",
        " \n",
        "ika=\n",
        " \n",
        " \n",
        "#2. Selvitä ehtolauseiden avulla, mihin hintaluokkaan käyttäjä kuuluu ja tulosta oikea hinta:\n",
        " \n",
        "#Jos käyttäjä on alle 5-vuotias\n",
        "if\n",
        " \n",
        "#Muuten jos käyttäjä on alle 15-vuotias\n",
        "elif\n",
        " \n",
        "#Muuten\n",
        "else:"
      ]
    },
    {
      "attachments": {},
      "cell_type": "markdown",
      "metadata": {
        "id": "9O2yro3iDw9p"
      },
      "source": [
        "#### Tehtävä 2.2\n",
        "Seuraavassa tehtävässä yhdistetään kaikkea tähän asti opittua.\n",
        "\n",
        "Tehtävänäsi on ohjelmoida yksinkertainen kassakone. Ohjelma kysyy käyttäjältä minkä tuotteen hän haluaa kahdesta eri vaihtoehdosta. Tämän jälkeen käyttäjältä kysytään kuinka monta kappaletta hän haluaa kyseistä tuotetta. Ohjelma tulostaa oikean hinnan.\n",
        "\n",
        "Hyödynnä tehtävässä käyttäjän syötteen kysymistä ja tallentamista muuttujaan, matemaattisia operaattoreita, ehtolauseita ja tulostamista.\n",
        "\n",
        "Kaupan hinnasto:\n",
        "\n",
        "-Tuote 1: korvapuusti 3€\n",
        "\n",
        "-Tuote 2: vesipullo 2€\n"
      ]
    },
    {
      "cell_type": "code",
      "execution_count": null,
      "metadata": {
        "id": "QALgKAgJB11x"
      },
      "outputs": [],
      "source": [
        "#1. Kysy ensin käyttäjältä minkä tuotteen hän haluaa, ja tallenna tämä muuttujaan\n",
        "#Esimerkiksi lauseella \"Kirjoita haluamasi tuotteen numero. Tuote 1 on korvapuusti ja tuote 2 on vesipullo\"\n",
        "\n",
        "\n",
        "#2. Kysy seuraavaksi kuinka monta kappaletta käyttäjä haluaa ostaa, ja tallenna tämä muuttujaan\n",
        "\n",
        "\n",
        "#3. Käytä ehtolauseita selvittääksesi, mitä tuotetta käyttäjä tilasi.\n",
        "#Laske ostosten kokonaishinta kertolaskun avulla ja tulosta se.\n",
        "\n",
        "#3.1 jos tuote on 1 \n",
        "if\n",
        "\n",
        "#3.2 jos tuote on 2\n",
        "if \n",
        "\n",
        "\n",
        "#Tulosta hinta\n",
        "\n",
        "\n"
      ]
    },
    {
      "attachments": {},
      "cell_type": "markdown",
      "metadata": {
        "id": "jZiZtfO742Wq"
      },
      "source": [
        "## 3. Silmukat\n",
        "\n",
        "Silmukat ovat niin sanottuja toistorakenteita. Niiden avulla voidaan toistaa samaa ohjelmakoodia moneen kertaan ilman, että koodia täytyy kirjoittaa moneen kertaan. Koodi, jota halutaan toistaa, sisennetään kuten ehtolauseissa.\n",
        "\n",
        "### 3.1 for-silmukka\n",
        "\n",
        "for-silmukkaa kannattaa käyttää silloin, kun tiedetään kuinka monta kertaa toistettava ohjelma halutaan toistaa. For-silmukkaa käytetään yleisesti myös erilaisten listojen läpikäyntiin.\n",
        "\n",
        "For-silmukan kanssa on usein hyödyllistä käyttää range()-funktiota, joka tekee sarjan numeroita. Esimerkiksi range(5) tekee sarjan numeroita nollasta neljään(5-1=4). \n",
        "\n",
        "Aja alla olevat esimerkit ja kokeile muuttaa lukua range-funktion sisällä. Mitä tapahtuu?"
      ]
    },
    {
      "cell_type": "code",
      "execution_count": null,
      "metadata": {
        "id": "iteArFk-FVa8"
      },
      "outputs": [],
      "source": [
        "#Mikäli halutaan, että ohjelma tervehtii käyttäjää monta kertaa, voidaan käyttää \n",
        "#for-silmukkaa ja range()-funktiota:\n",
        "\n",
        "for i in range(3):\n",
        "  print(\"Moi!\")"
      ]
    },
    {
      "cell_type": "code",
      "execution_count": null,
      "metadata": {
        "id": "NOmy1gWcGgTT"
      },
      "outputs": [],
      "source": [
        "#for-silmukkaa ja range()-funktiota voidaan hyödyntää myös, jos halutaan tulostaa \n",
        "#luvut nollasta yhdeksään\n",
        "\n",
        "for i in range(10):\n",
        "  print(i)"
      ]
    },
    {
      "attachments": {},
      "cell_type": "markdown",
      "metadata": {
        "id": "FdV8SYoxGzpE"
      },
      "source": [
        "Ylläolevista esimerkeistä nähtiin, että kun käytetään for-silmukkaa ja range-funktiota, for-silmukan sisällä oleva sisennetty koodi toistetaan range()-funktiolle annetun luvun mukainen määrä. Lisäksi huomattiin, että range-funktion tekemän sarjan luvut tallentuvat vuorotellen annettuun muuttujaan (esimerkeissä tämän muuttujan nimi on i). \n",
        "\n",
        "Tätä muuttujaa voidaan käyttää kuten mitä tahansa muutakin muuttujaa esimerkiksi kerto ja jakolaskuissa."
      ]
    },
    {
      "attachments": {},
      "cell_type": "markdown",
      "metadata": {
        "id": "ORibpavtIFAg"
      },
      "source": [
        "### Tehtävä 3.1\n",
        "\n",
        "Toteuta ohjelma, joka laskee haluamasi luvun kertotaulun. Hyödynnä for-silmukkaa yhdessä range-funktion kanssa."
      ]
    },
    {
      "cell_type": "code",
      "execution_count": null,
      "metadata": {
        "id": "YPnNZPVzIElf"
      },
      "outputs": [],
      "source": [
        "#1. Ensin tehdään for-silmukka hyödyntäen range-funktiota. Silmukka halutaan\n",
        "#halutaan toistaa 10 kertaa, joten range- funktiolle annetaan luvuksi 10\n",
        "\n",
        "for...\n",
        "  #2. for-silmukan sisällä lasketaan, ja tulostetaan halutun luvun kertotaulu\n",
        "  #hyödyntämällä muuttujaa, johon tallennetaan range-funktion tekemän lukusarjan lukuja"
      ]
    },
    {
      "attachments": {},
      "cell_type": "markdown",
      "metadata": {
        "id": "t6M_nOVXJF7Z"
      },
      "source": [
        "### 3.2 While-silmukka\n",
        "\n",
        "While-silmukka on toistorakenne, joka toistaa haluttua ohjelmakoodia niin kauan, kunnes jokin ehto täyttyy. While-silmukkaa käytetään siis yhdessä vertailuoperaattoreiden kanssa."
      ]
    },
    {
      "cell_type": "code",
      "execution_count": null,
      "metadata": {
        "id": "RrjEwOabJZbY"
      },
      "outputs": [],
      "source": [
        "#Haluamme jälleen tervehtiä käyttäjää monta kertaa. Tällä kertaa yhteensä 5 kertaa\n",
        "#ja hyödyntäen while-silmukkaa:\n",
        "\n",
        "#luodaan ensin muuttuja, johon tallennetaan tieto siitä, kuinka monta kertaa\n",
        "#käyttäjää on tervehditty, eli kuinka monta kertaa koodi on toistettu. Aluksi\n",
        "#toistoja ei vielä ole eli muuttuja asetetaan nollaksi\n",
        "kerta = 0\n",
        "\n",
        "#Halusimme tervehtiä 5 kertaa, joten silmukan toistua niin kauan kun kerta<5:\n",
        "while kerta < 5:\n",
        "  #silmukan sisällä ensin tulostetaan haluttu tervehdys\n",
        "  print(\"Moi!\")\n",
        "  #nyt kerta-muuttujaan lisätään 1, sillä olemme tervehtineet käyttjää yhden kerran lisää\n",
        "  kerta = kerta + 1"
      ]
    },
    {
      "attachments": {},
      "cell_type": "markdown",
      "metadata": {
        "id": "CIIOrlBfKaKA"
      },
      "source": [
        "Ylläolevassa esimerkissä toistojen määrä tiedettiin valmiiksi mutta yleensä while-silmukkaa kannattaa käyttää, jos toistojen määrää ei tiedetä etukäteen. \n"
      ]
    },
    {
      "cell_type": "code",
      "execution_count": null,
      "metadata": {
        "id": "8SP8NAShKrrL"
      },
      "outputs": [],
      "source": [
        "#Sinulla on 4€ ja haluat ostaa 30snt hintaisia tikkareita niin monta kuin pystyt.\n",
        "#Et osaa laskea päässä, kuinka monta tikkaria saat, joten kirjoitat ohjelman, \n",
        "#joka laskee while-silmukan avulla kuinka monta tikkaria saat ostettua.\n",
        "\n",
        "#ensin määritellään muuttuja raha, johon tallennetaan jäljellä olevan rahan määrä\n",
        "#alussa rahaa on 4€\n",
        "raha = 4\n",
        "\n",
        "#lisäksi määritellään muuttuja tikkarit, johon tallennetaan ostettujen tikkareiden määrä\n",
        "#aluksi tikkareita on 0\n",
        "tikkarit = 0\n",
        "\n",
        "#tikkareita ostetaan lisää niin kauan, kun rahaa riittää, eli rahaa on vähintään 30 senttiä:\n",
        "while raha >= 0.3:\n",
        "  #jos rahaa on tarpeeksi, ostetaan yksi tikkari lisää\n",
        "  tikkarit = tikkarit+1\n",
        "  #koska ostit tikkarin, rahoista vähennetään tikkarin hinta\n",
        "  raha = raha-0.3\n",
        "\n",
        "raha = round(raha, 2) #pyöristetään kahden desimaalin tarkkuuteen. Tässä python laskee kuudennen toista desimaanlin väärin. Tämä johtuu pythonista itsestään ja siitä miten liuku luvut ovat tallennettu binääri muotoon. TÄmän rivin voi kokeilla poistaa.\n",
        "\n",
        "#lopuksi tulostetaan kuinka monta tikkaria sait ostettua:\n",
        "print(tikkarit, \"tikkaria\")\n",
        "#lisäksi tulostetaan kuinka paljon rahaa jäi jäljelle:\n",
        "print(\"sinulle jäi\", raha, \"euroa\")"
      ]
    },
    {
      "attachments": {},
      "cell_type": "markdown",
      "metadata": {
        "id": "qyxYF09lL6Vb"
      },
      "source": [
        "### Tehtävä 3.2\n",
        "Laske kuinka monta peräkkäistä kokonaislukua pitää laskea yhteen, jotta summa ylittää 100.\n",
        "\n",
        "Käytä tehtävässä while-silmukkaa ja tulosta vastaus."
      ]
    },
    {
      "cell_type": "code",
      "execution_count": null,
      "metadata": {
        "id": "BkzmRvsvMU1o"
      },
      "outputs": [],
      "source": [
        "#1. Määrittele muuttuja kokonaisluku, joka on aluksi 1 ja kasvaa jokaisella toistolla\n",
        "\n",
        "#2. Määrittele muuttuja summa, johon tallennetaan summa jokaisella toistolla. \n",
        "#summa on aluksi 0\n",
        "\n",
        "#3.Tee while-silmukka, jota toistetaan kunnes summa ylittää sadan\n",
        "while...\n",
        "  #4. silmukan sisällä lisää summa muuttujaan kokonaisluku ja kasvata kokonaislukua yhdellä\n",
        "\n",
        "#5. Kun summa on ylittänyt sadan ja silmukan toisto loppuu, tulosta kokonaisluku"
      ]
    },
    {
      "attachments": {},
      "cell_type": "markdown",
      "metadata": {
        "id": "ijH___4OCMLM"
      },
      "source": [
        "## Lisätehtävä\n",
        "\n",
        "Toteuta laskin. Ohjelma kysyy käyttäjältä, minkä laskutoimituksen hän haluaa tehdä (summa/erotus/tulo/osamäärä). Sen jälkeen ohjelma kysyy mille kahdelle luvulle laskutoimitus tehdään. Lopuksi ohjelma tulostaa laskutoimituksen tuloksen. Toteutuksessa tarvitaan kaikkia työpajassa opetettuja aiheita. "
      ]
    },
    {
      "cell_type": "code",
      "execution_count": null,
      "metadata": {
        "id": "mlRE8uWKDoTB"
      },
      "outputs": [],
      "source": [
        "#Lisätehtävä"
      ]
    },
    {
      "attachments": {},
      "cell_type": "markdown",
      "metadata": {
        "id": "WMFkpTmPK3Nm"
      },
      "source": [
        "## Haastava lisätehtävä\n",
        "### Listat ja lajittelualgoritmit\n",
        "\n",
        "Lista on muuttujien säilyttämiseen käytetty tietorakenne. Voit tutustua listojen käyttöön täällä: https://www.cs.helsinki.fi/group/linkki/materiaali/peliohjelmointi/lista.html\n",
        "\n",
        "Lajittelualgoritmit ovat algoritmeja, jotka lajittelevat listan osat sovittuun järjestykseen, esimerkiksi listan sisältämät luvut numerojärjestykseen pienimmästä suurimpaan. Erilaisista lajittelualgoritmeista löydät lisätietoa täältä: https://en.wikipedia.org/wiki/Sorting_algorithm\n",
        "\n",
        "Tehtävänäsi on toteuttaa haluamasilainen lajittelualgoritmi, joka järestää listaan tallennetut kokonaisluvut pienimmästä suurimpaan. Alla oleva koodi luo sinulle kaksi listaa, jotka sisältävät satunnaisia kokonaislukuja. Voit käyttää listoja algoritmisi testaukseen."
      ]
    },
    {
      "cell_type": "code",
      "execution_count": null,
      "metadata": {
        "colab": {
          "base_uri": "https://localhost:8080/"
        },
        "id": "UWSJTrx8p0ng",
        "outputId": "2c87d58f-4acc-41f4-b8e6-70ee68b48bc0"
      },
      "outputs": [],
      "source": [
        "import random\n",
        "#Tämä koodi luo sinulle yhden 10 alkion mittaisen listan ja yhten 1000 alkion mittaisen listan,\n",
        "#joita voit käyttää algoritmisi testauksessa\n",
        "lyhytlista = [] \n",
        "for _ in range(10):\n",
        "    lyhytlista.append(random.randrange(0,10, step=1))\n",
        "pitkalista = []\n",
        "for _ in range(1000):\n",
        "    pitkalista.append(random.randrange(0,1000, step=1))"
      ]
    },
    {
      "cell_type": "code",
      "execution_count": null,
      "metadata": {
        "id": "wNcj8tSJN1AI"
      },
      "outputs": [],
      "source": [
        "#Toteuta lajittelualgoritmisi tähän soluun. Voit tarkistaa toimivuuden käyttämällä\n",
        "#lyhyempää listaa ja tulostamalla valmiiksi lajitellun listan.\n",
        "#Voit luoda lisää muuttujia, kuten listoja tarvittaessa"
      ]
    }
  ],
  "metadata": {
    "colab": {
      "collapsed_sections": [
        "Oskd18uB477J",
        "ORibpavtIFAg",
        "t6M_nOVXJF7Z",
        "qyxYF09lL6Vb"
      ],
      "name": "python_ohjelmointi.ipynb",
      "provenance": []
    },
    "kernelspec": {
      "display_name": "Python 3",
      "name": "python3"
    },
    "language_info": {
      "codemirror_mode": {
        "name": "ipython",
        "version": 3
      },
      "file_extension": ".py",
      "mimetype": "text/x-python",
      "name": "python",
      "nbconvert_exporter": "python",
      "pygments_lexer": "ipython3",
      "version": "3.11.3"
    }
  },
  "nbformat": 4,
  "nbformat_minor": 0
}
